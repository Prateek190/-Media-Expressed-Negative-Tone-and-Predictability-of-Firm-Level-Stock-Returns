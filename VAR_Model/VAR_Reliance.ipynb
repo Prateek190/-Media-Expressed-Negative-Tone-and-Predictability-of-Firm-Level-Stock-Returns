{
  "nbformat": 4,
  "nbformat_minor": 0,
  "metadata": {
    "colab": {
      "name": "VAR_Reliance",
      "provenance": [],
      "collapsed_sections": []
    },
    "kernelspec": {
      "name": "python3",
      "display_name": "Python 3"
    }
  },
  "cells": [
    {
      "cell_type": "code",
      "metadata": {
        "id": "aTt-bLhWqiVF"
      },
      "source": [
        "import pandas as pd\n",
        "import numpy as np\n",
        "import os\n",
        "import matplotlib.pyplot as plt\n",
        "%matplotlib inline\n",
        "from statsmodels.tsa.api import VAR\n",
        "from statsmodels.tsa.stattools import adfuller\n",
        "from statsmodels.tools.eval_measures import rmse,aic"
      ],
      "execution_count": null,
      "outputs": []
    },
    {
      "cell_type": "code",
      "metadata": {
        "id": "okTUchVHJM1n",
        "colab": {
          "base_uri": "https://localhost:8080/"
        },
        "outputId": "2a22221f-ba24-46d0-f3df-a34d55f2d705"
      },
      "source": [
        "from google.colab import drive\n",
        "drive.mount('/content/drive')"
      ],
      "execution_count": null,
      "outputs": [
        {
          "output_type": "stream",
          "text": [
            "Mounted at /content/drive\n"
          ],
          "name": "stdout"
        }
      ]
    },
    {
      "cell_type": "code",
      "metadata": {
        "id": "a5PP2bF1rhX1",
        "colab": {
          "base_uri": "https://localhost:8080/",
          "height": 450
        },
        "outputId": "6c3c7401-c181-4abf-e180-0bd4518ccdd6"
      },
      "source": [
        "r=pd.read_csv(\"/content/drive/My Drive/stock/final_RELIANCE.NS.csv\")\n",
        "nt=pd.read_csv(\"/content/drive/My Drive/tone/pct730/pct730_Reliance.csv\")\n",
        "df=pd.DataFrame()\n",
        "df['return']=r['return']\n",
        "df['negative tone']=nt['PCT']\n",
        "df['Date']=r['Date']\n",
        "df.set_index('Date',inplace=True)\n",
        "df[~df.isin([np.nan, np.inf, -np.inf]).any(1)]\n",
        "df.replace([np.inf, -np.inf], np.nan)\n",
        "\n",
        "df.dropna(inplace=True)\n",
        "df\n",
        "\n"
      ],
      "execution_count": null,
      "outputs": [
        {
          "output_type": "execute_result",
          "data": {
            "text/html": [
              "<div>\n",
              "<style scoped>\n",
              "    .dataframe tbody tr th:only-of-type {\n",
              "        vertical-align: middle;\n",
              "    }\n",
              "\n",
              "    .dataframe tbody tr th {\n",
              "        vertical-align: top;\n",
              "    }\n",
              "\n",
              "    .dataframe thead th {\n",
              "        text-align: right;\n",
              "    }\n",
              "</style>\n",
              "<table border=\"1\" class=\"dataframe\">\n",
              "  <thead>\n",
              "    <tr style=\"text-align: right;\">\n",
              "      <th></th>\n",
              "      <th>return</th>\n",
              "      <th>negative tone</th>\n",
              "    </tr>\n",
              "    <tr>\n",
              "      <th>Date</th>\n",
              "      <th></th>\n",
              "      <th></th>\n",
              "    </tr>\n",
              "  </thead>\n",
              "  <tbody>\n",
              "    <tr>\n",
              "      <th>2018-01-01</th>\n",
              "      <td>0.00</td>\n",
              "      <td>1.19</td>\n",
              "    </tr>\n",
              "    <tr>\n",
              "      <th>2018-01-02</th>\n",
              "      <td>0.15</td>\n",
              "      <td>1.23</td>\n",
              "    </tr>\n",
              "    <tr>\n",
              "      <th>2018-01-03</th>\n",
              "      <td>0.40</td>\n",
              "      <td>0.76</td>\n",
              "    </tr>\n",
              "    <tr>\n",
              "      <th>2018-01-04</th>\n",
              "      <td>0.60</td>\n",
              "      <td>1.37</td>\n",
              "    </tr>\n",
              "    <tr>\n",
              "      <th>2018-01-05</th>\n",
              "      <td>0.32</td>\n",
              "      <td>1.33</td>\n",
              "    </tr>\n",
              "    <tr>\n",
              "      <th>...</th>\n",
              "      <td>...</td>\n",
              "      <td>...</td>\n",
              "    </tr>\n",
              "    <tr>\n",
              "      <th>2019-12-27</th>\n",
              "      <td>-0.25</td>\n",
              "      <td>0.98</td>\n",
              "    </tr>\n",
              "    <tr>\n",
              "      <th>2019-12-28</th>\n",
              "      <td>0.00</td>\n",
              "      <td>2.36</td>\n",
              "    </tr>\n",
              "    <tr>\n",
              "      <th>2019-12-29</th>\n",
              "      <td>0.00</td>\n",
              "      <td>0.65</td>\n",
              "    </tr>\n",
              "    <tr>\n",
              "      <th>2019-12-30</th>\n",
              "      <td>0.84</td>\n",
              "      <td>1.08</td>\n",
              "    </tr>\n",
              "    <tr>\n",
              "      <th>2019-12-31</th>\n",
              "      <td>0.00</td>\n",
              "      <td>1.80</td>\n",
              "    </tr>\n",
              "  </tbody>\n",
              "</table>\n",
              "<p>728 rows × 2 columns</p>\n",
              "</div>"
            ],
            "text/plain": [
              "            return  negative tone\n",
              "Date                             \n",
              "2018-01-01    0.00           1.19\n",
              "2018-01-02    0.15           1.23\n",
              "2018-01-03    0.40           0.76\n",
              "2018-01-04    0.60           1.37\n",
              "2018-01-05    0.32           1.33\n",
              "...            ...            ...\n",
              "2019-12-27   -0.25           0.98\n",
              "2019-12-28    0.00           2.36\n",
              "2019-12-29    0.00           0.65\n",
              "2019-12-30    0.84           1.08\n",
              "2019-12-31    0.00           1.80\n",
              "\n",
              "[728 rows x 2 columns]"
            ]
          },
          "metadata": {
            "tags": []
          },
          "execution_count": 6
        }
      ]
    },
    {
      "cell_type": "code",
      "metadata": {
        "id": "oalP4NKkAMMu",
        "colab": {
          "base_uri": "https://localhost:8080/",
          "height": 724
        },
        "outputId": "75831f51-a0fc-4bd7-87ee-2888cbc024af"
      },
      "source": [
        "fig, axes = plt.subplots(nrows=1, ncols=2, dpi=120, figsize=(10,6))\n",
        "for i, ax in enumerate(axes.flatten()):\n",
        "    data = df[df.columns[i]]\n",
        "    ax.plot(data, color='red', linewidth=1)\n",
        "    # Decorations\n",
        "    ax.set_title(df.columns[i])\n",
        "    ax.xaxis.set_ticks_position('none')\n",
        "    ax.yaxis.set_ticks_position('none')\n",
        "    ax.spines[\"top\"].set_alpha(0)\n",
        "    ax.tick_params(labelsize=6)\n",
        "\n",
        "plt.tight_layout();"
      ],
      "execution_count": null,
      "outputs": [
        {
          "output_type": "display_data",
          "data": {
            "image/png": "[encoded data removed]",
            "text/plain": [
              "<Figure size 1200x720 with 2 Axes>"
            ]
          },
          "metadata": {
            "tags": [],
            "needs_background": "light"
          }
        }
      ]
    },
    {
      "cell_type": "code",
      "metadata": {
        "id": "bJXLim6uAW7_",
        "colab": {
          "base_uri": "https://localhost:8080/",
          "height": 111
        },
        "outputId": "8177d310-d4b3-41bc-bbdd-2d91b0fe624d"
      },
      "source": [
        "from statsmodels.tsa.stattools import grangercausalitytests\n",
        "maxlag=12\n",
        "test = 'ssr_chi2test'\n",
        "def grangers_causation_matrix(data, variables, test='ssr_chi2test', verbose=False):    \n",
        "    \"\"\"Check Granger Causality of all possible combinations of the Time series.\n",
        "    The rows are the response variable, columns are predictors. The values in the table \n",
        "    are the P-Values. P-Values lesser than the significance level (0.05), implies \n",
        "    the Null Hypothesis that the coefficients of the corresponding past values is \n",
        "    zero, that is, the X does not cause Y can be rejected.\n",
        "\n",
        "    data      : pandas dataframe containing the time series variables\n",
        "    variables : list containing names of the time series variables.\n",
        "    \"\"\"\n",
        "    df = pd.DataFrame(np.zeros((len(variables), len(variables))), columns=variables, index=variables)\n",
        "    for c in df.columns:\n",
        "        for r in df.index:\n",
        "            test_result = grangercausalitytests(data[[r, c]], maxlag=maxlag, verbose=False)\n",
        "            p_values = [round(test_result[i+1][0][test][1],4) for i in range(maxlag)]\n",
        "            if verbose: print(f'Y = {r}, X = {c}, P Values = {p_values}')\n",
        "            min_p_value = np.min(p_values)\n",
        "            df.loc[r, c] = min_p_value\n",
        "    df.columns = [var + '_x' for var in variables]\n",
        "    df.index = [var + '_y' for var in variables]\n",
        "    return df\n",
        "\n",
        "grangers_causation_matrix(df, variables = df.columns) "
      ],
      "execution_count": null,
      "outputs": [
        {
          "output_type": "execute_result",
          "data": {
            "text/html": [
              "<div>\n",
              "<style scoped>\n",
              "    .dataframe tbody tr th:only-of-type {\n",
              "        vertical-align: middle;\n",
              "    }\n",
              "\n",
              "    .dataframe tbody tr th {\n",
              "        vertical-align: top;\n",
              "    }\n",
              "\n",
              "    .dataframe thead th {\n",
              "        text-align: right;\n",
              "    }\n",
              "</style>\n",
              "<table border=\"1\" class=\"dataframe\">\n",
              "  <thead>\n",
              "    <tr style=\"text-align: right;\">\n",
              "      <th></th>\n",
              "      <th>return_x</th>\n",
              "      <th>negative tone_x</th>\n",
              "    </tr>\n",
              "  </thead>\n",
              "  <tbody>\n",
              "    <tr>\n",
              "      <th>return_y</th>\n",
              "      <td>1.0000</td>\n",
              "      <td>0.0996</td>\n",
              "    </tr>\n",
              "    <tr>\n",
              "      <th>negative tone_y</th>\n",
              "      <td>0.3782</td>\n",
              "      <td>1.0000</td>\n",
              "    </tr>\n",
              "  </tbody>\n",
              "</table>\n",
              "</div>"
            ],
            "text/plain": [
              "                 return_x  negative tone_x\n",
              "return_y           1.0000           0.0996\n",
              "negative tone_y    0.3782           1.0000"
            ]
          },
          "metadata": {
            "tags": []
          },
          "execution_count": 8
        }
      ]
    },
    {
      "cell_type": "code",
      "metadata": {
        "id": "sw-oAStCMAgj"
      },
      "source": [
        "# Results from Granger Casuality test can be read as : negative tone causes return (10% significance) but return do not causes negative tone.\n"
      ],
      "execution_count": null,
      "outputs": []
    },
    {
      "cell_type": "code",
      "metadata": {
        "id": "4o50qsaedyyu",
        "colab": {
          "base_uri": "https://localhost:8080/"
        },
        "outputId": "303340b7-318b-44d5-f9e4-813064c76bfe"
      },
      "source": [
        "t = 5\n",
        "df_train, df_test = df[0:-t], df[-t:]\n",
        "\n",
        "# Check size\n",
        "print(df_train.shape)  # (655, 2)\n",
        "print(df_test.shape)  # (73, 2)\n"
      ],
      "execution_count": null,
      "outputs": [
        {
          "output_type": "stream",
          "text": [
            "(723, 2)\n",
            "(5, 2)\n"
          ],
          "name": "stdout"
        }
      ]
    },
    {
      "cell_type": "code",
      "metadata": {
        "id": "nIl2Hdo0hBuI"
      },
      "source": [
        "def adfuller_test(series, signif=0.05, name='', verbose=False):\n",
        "    \"\"\"Perform ADFuller to test for Stationarity of given series and print report\"\"\"\n",
        "    r = adfuller(series, autolag='AIC')\n",
        "    output = {'test_statistic':round(r[0], 4), 'pvalue':round(r[1], 4), 'n_lags':round(r[2], 4), 'n_obs':r[3]}\n",
        "    p_value = output['pvalue'] \n",
        "    def adjust(val, length= 6): return str(val).ljust(length)\n",
        "\n",
        "    # Print Summary\n",
        "    print(f'    Augmented Dickey-Fuller Test on \"{name}\"', \"\\n   \", '-'*47)\n",
        "    print(f' Null Hypothesis: Data has unit root. Non-Stationary.')\n",
        "    print(f' Significance Level    = {signif}')\n",
        "    print(f' Test Statistic        = {output[\"test_statistic\"]}')\n",
        "    print(f' No. Lags Chosen       = {output[\"n_lags\"]}')\n",
        "\n",
        "    for key,val in r[4].items():\n",
        "        print(f' Critical value {adjust(key)} = {round(val, 3)}')\n",
        "\n",
        "    if p_value <= signif:\n",
        "        print(f\" => P-Value = {p_value}. Rejecting Null Hypothesis.\")\n",
        "        print(f\" => Series is Stationary.\")\n",
        "    else:\n",
        "        print(f\" => P-Value = {p_value}. Weak evidence to reject the Null Hypothesis.\")\n",
        "        print(f\" => Series is Non-Stationary.\") "
      ],
      "execution_count": null,
      "outputs": []
    },
    {
      "cell_type": "code",
      "metadata": {
        "id": "k1WENsT3wLnE",
        "colab": {
          "base_uri": "https://localhost:8080/"
        },
        "outputId": "88365b79-4fb8-4de9-d9d4-4ff5453b2a4b"
      },
      "source": [
        "# ADF Test on each column\n",
        "for name, column in df_train.iteritems():\n",
        "    adfuller_test(column, name=column.name)\n",
        "    print('\\n')"
      ],
      "execution_count": null,
      "outputs": [
        {
          "output_type": "stream",
          "text": [
            "    Augmented Dickey-Fuller Test on \"return\" \n",
            "    -----------------------------------------------\n",
            " Null Hypothesis: Data has unit root. Non-Stationary.\n",
            " Significance Level    = 0.05\n",
            " Test Statistic        = -11.1195\n",
            " No. Lags Chosen       = 7\n",
            " Critical value 1%     = -3.44\n",
            " Critical value 5%     = -2.866\n",
            " Critical value 10%    = -2.569\n",
            " => P-Value = 0.0. Rejecting Null Hypothesis.\n",
            " => Series is Stationary.\n",
            "\n",
            "\n",
            "    Augmented Dickey-Fuller Test on \"negative tone\" \n",
            "    -----------------------------------------------\n",
            " Null Hypothesis: Data has unit root. Non-Stationary.\n",
            " Significance Level    = 0.05\n",
            " Test Statistic        = -4.9229\n",
            " No. Lags Chosen       = 16\n",
            " Critical value 1%     = -3.44\n",
            " Critical value 5%     = -2.866\n",
            " Critical value 10%    = -2.569\n",
            " => P-Value = 0.0. Rejecting Null Hypothesis.\n",
            " => Series is Stationary.\n",
            "\n",
            "\n"
          ],
          "name": "stdout"
        }
      ]
    },
    {
      "cell_type": "code",
      "metadata": {
        "id": "g75LrN35wPvT",
        "colab": {
          "base_uri": "https://localhost:8080/"
        },
        "outputId": "8ce9c6fe-165f-4700-bc39-f37027bee287"
      },
      "source": [
        "model = VAR(df_train)\r\n",
        "for i in [1,2,3,4,5,6,7,8,9,10,11,12]:\r\n",
        "    result = model.fit(i)\r\n",
        "    print('Lag Order =', i)\r\n",
        "    print('AIC : ', result.aic)\r\n",
        "    print('BIC : ', result.bic)\r\n",
        "    print('FPE : ', result.fpe)\r\n",
        "    print('HQIC: ', result.hqic, '\\n')\r\n",
        "print(df_train[-t:])   "
      ],
      "execution_count": null,
      "outputs": [
        {
          "output_type": "stream",
          "text": [
            "Lag Order = 1\n",
            "AIC :  -0.2408645913380177\n",
            "BIC :  -0.2027868201006812\n",
            "FPE :  0.7859481185339715\n",
            "HQIC:  -0.22616637854267047 \n",
            "\n",
            "Lag Order = 2\n",
            "AIC :  -0.23538560086994442\n",
            "BIC :  -0.17185385139303805\n",
            "FPE :  0.7902664150099995\n",
            "HQIC:  -0.21086044486589256 \n",
            "\n",
            "Lag Order = 3\n",
            "AIC :  -0.23983380339314705\n",
            "BIC :  -0.15079280760406175\n",
            "FPE :  0.786759570867269\n",
            "HQIC:  -0.20545910012056615 \n",
            "\n",
            "Lag Order = 4\n",
            "AIC :  -0.23208068109017854\n",
            "BIC :  -0.1174749725519604\n",
            "FPE :  0.7928842237519493\n",
            "HQIC:  -0.18783374346597947 \n",
            "\n",
            "Lag Order = 5\n",
            "AIC :  -0.2281600182964749\n",
            "BIC :  -0.08793393122257387\n",
            "FPE :  0.7960006925347057\n",
            "HQIC:  -0.1740180757973667 \n",
            "\n",
            "Lag Order = 6\n",
            "AIC :  -0.2186381451318042\n",
            "BIC :  -0.05273581339457947\n",
            "FPE :  0.8036188443403199\n",
            "HQIC:  -0.15457834337470294 \n",
            "\n",
            "Lag Order = 7\n",
            "AIC :  -0.24649994641831036\n",
            "BIC :  -0.05486530255124422\n",
            "FPE :  0.7815409871948273\n",
            "HQIC:  -0.1724993467380733 \n",
            "\n",
            "Lag Order = 8\n",
            "AIC :  -0.23985444263645034\n",
            "BIC :  -0.022431216830022027\n",
            "FPE :  0.7867564731650046\n",
            "HQIC:  -0.15589002166091495 \n",
            "\n",
            "Lag Order = 9\n",
            "AIC :  -0.2296087912386054\n",
            "BIC :  0.013659489670224012\n",
            "FPE :  0.7948644709717627\n",
            "HQIC:  -0.1356574404609124 \n",
            "\n",
            "Lag Order = 10\n",
            "AIC :  -0.2204680354839923\n",
            "BIC :  0.04870197806074883\n",
            "FPE :  0.8021706195176636\n",
            "HQIC:  -0.11650656083217156 \n",
            "\n",
            "Lag Order = 11\n",
            "AIC :  -0.21277300139054922\n",
            "BIC :  0.08235562771752791\n",
            "FPE :  0.8083759628375401\n",
            "HQIC:  -0.09877812279434736 \n",
            "\n",
            "Lag Order = 12\n",
            "AIC :  -0.2010713904860594\n",
            "BIC :  0.12007294353667203\n",
            "FPE :  0.8179014842208535\n",
            "HQIC:  -0.07701974144098778 \n",
            "\n",
            "            return  negative tone\n",
            "Date                             \n",
            "2019-12-22    0.00           2.21\n",
            "2019-12-23    0.37           1.50\n",
            "2019-12-24    0.94           0.95\n",
            "2019-12-25    0.00           1.74\n",
            "2019-12-26   -1.03           1.18\n"
          ],
          "name": "stdout"
        },
        {
          "output_type": "stream",
          "text": [
            "/usr/local/lib/python3.6/dist-packages/statsmodels/tsa/base/tsa_model.py:219: ValueWarning: A date index has been provided, but it has no associated frequency information and so will be ignored when e.g. forecasting.\n",
            "  ' ignored when e.g. forecasting.', ValueWarning)\n"
          ],
          "name": "stderr"
        }
      ]
    },
    {
      "cell_type": "code",
      "metadata": {
        "id": "O9yZVJin1LTq",
        "colab": {
          "base_uri": "https://localhost:8080/",
          "height": 347
        },
        "outputId": "0da81942-ab27-4c91-b929-44ca169e639f"
      },
      "source": [
        "x = model.select_order(maxlags=12)\r\n",
        "x.summary()"
      ],
      "execution_count": null,
      "outputs": [
        {
          "output_type": "execute_result",
          "data": {
            "text/html": [
              "<table class=\"simpletable\">\n",
              "<caption>VAR Order Selection (* highlights the minimums)</caption>\n",
              "<tr>\n",
              "   <td></td>      <th>AIC</th>         <th>BIC</th>         <th>FPE</th>        <th>HQIC</th>    \n",
              "</tr>\n",
              "<tr>\n",
              "  <th>0</th>  <td>   -0.1946</td>  <td>   -0.1818*</td> <td>    0.8231</td>  <td>   -0.1897</td> \n",
              "</tr>\n",
              "<tr>\n",
              "  <th>1</th>  <td>   -0.2173</td>  <td>   -0.1788</td>  <td>    0.8047</td>  <td>   -0.2024*</td>\n",
              "</tr>\n",
              "<tr>\n",
              "  <th>2</th>  <td>   -0.2141</td>  <td>   -0.1498</td>  <td>    0.8073</td>  <td>   -0.1892</td> \n",
              "</tr>\n",
              "<tr>\n",
              "  <th>3</th>  <td>   -0.2191</td>  <td>   -0.1292</td>  <td>    0.8032</td>  <td>   -0.1844</td> \n",
              "</tr>\n",
              "<tr>\n",
              "  <th>4</th>  <td>   -0.2140</td>  <td>  -0.09837</td>  <td>    0.8074</td>  <td>   -0.1693</td> \n",
              "</tr>\n",
              "<tr>\n",
              "  <th>5</th>  <td>   -0.2127</td>  <td>  -0.07140</td>  <td>    0.8084</td>  <td>   -0.1581</td> \n",
              "</tr>\n",
              "<tr>\n",
              "  <th>6</th>  <td>   -0.2059</td>  <td>  -0.03889</td>  <td>    0.8139</td>  <td>   -0.1414</td> \n",
              "</tr>\n",
              "<tr>\n",
              "  <th>7</th>  <td>   -0.2362*</td> <td>  -0.04352</td>  <td>    0.7896*</td> <td>   -0.1618</td> \n",
              "</tr>\n",
              "<tr>\n",
              "  <th>8</th>  <td>   -0.2323</td>  <td>  -0.01394</td>  <td>    0.7927</td>  <td>   -0.1480</td> \n",
              "</tr>\n",
              "<tr>\n",
              "  <th>9</th>  <td>   -0.2234</td>  <td>   0.02062</td>  <td>    0.7998</td>  <td>   -0.1292</td> \n",
              "</tr>\n",
              "<tr>\n",
              "  <th>10</th> <td>   -0.2162</td>  <td>   0.05360</td>  <td>    0.8056</td>  <td>   -0.1120</td> \n",
              "</tr>\n",
              "<tr>\n",
              "  <th>11</th> <td>   -0.2109</td>  <td>   0.08457</td>  <td>    0.8099</td>  <td>  -0.09675</td> \n",
              "</tr>\n",
              "<tr>\n",
              "  <th>12</th> <td>   -0.2011</td>  <td>    0.1201</td>  <td>    0.8179</td>  <td>  -0.07702</td> \n",
              "</tr>\n",
              "</table>"
            ],
            "text/plain": [
              "<class 'statsmodels.iolib.table.SimpleTable'>"
            ]
          },
          "metadata": {
            "tags": []
          },
          "execution_count": 15
        }
      ]
    },
    {
      "cell_type": "code",
      "metadata": {
        "id": "5SN_79o61nUA",
        "colab": {
          "base_uri": "https://localhost:8080/"
        },
        "outputId": "18cc02e7-e0aa-48b6-b7e5-6b8ca2579f5a"
      },
      "source": [
        "model_fitted = model.fit(7)\r\n",
        "model_fitted.summary()"
      ],
      "execution_count": null,
      "outputs": [
        {
          "output_type": "execute_result",
          "data": {
            "text/plain": [
              "  Summary of Regression Results   \n",
              "==================================\n",
              "Model:                         VAR\n",
              "Method:                        OLS\n",
              "Date:           Mon, 04, Jan, 2021\n",
              "Time:                     13:36:21\n",
              "--------------------------------------------------------------------\n",
              "No. of Equations:         2.00000    BIC:                 -0.0548653\n",
              "Nobs:                     716.000    HQIC:                 -0.172499\n",
              "Log likelihood:          -1913.67    FPE:                   0.781541\n",
              "AIC:                    -0.246500    Det(Omega_mle):        0.749796\n",
              "--------------------------------------------------------------------\n",
              "Results for equation return\n",
              "===================================================================================\n",
              "                      coefficient       std. error           t-stat            prob\n",
              "-----------------------------------------------------------------------------------\n",
              "const                    0.572350         0.264714            2.162           0.031\n",
              "L1.return                0.069383         0.037509            1.850           0.064\n",
              "L1.negative tone        -0.114536         0.080993           -1.414           0.157\n",
              "L2.return                0.060421         0.037591            1.607           0.108\n",
              "L2.negative tone         0.044652         0.081611            0.547           0.584\n",
              "L3.return               -0.021500         0.037608           -0.572           0.568\n",
              "L3.negative tone        -0.002109         0.081510           -0.026           0.979\n",
              "L4.return               -0.028049         0.037604           -0.746           0.456\n",
              "L4.negative tone        -0.028946         0.081780           -0.354           0.723\n",
              "L5.return               -0.011117         0.037667           -0.295           0.768\n",
              "L5.negative tone        -0.131591         0.081340           -1.618           0.106\n",
              "L6.return                0.004963         0.037695            0.132           0.895\n",
              "L6.negative tone        -0.062844         0.081469           -0.771           0.440\n",
              "L7.return               -0.124702         0.037528           -3.323           0.001\n",
              "L7.negative tone        -0.008396         0.081092           -0.104           0.918\n",
              "===================================================================================\n",
              "\n",
              "Results for equation negative tone\n",
              "===================================================================================\n",
              "                      coefficient       std. error           t-stat            prob\n",
              "-----------------------------------------------------------------------------------\n",
              "const                    0.794391         0.121912            6.516           0.000\n",
              "L1.return               -0.005385         0.017275           -0.312           0.755\n",
              "L1.negative tone         0.119065         0.037301            3.192           0.001\n",
              "L2.return                0.002261         0.017312            0.131           0.896\n",
              "L2.negative tone         0.028819         0.037585            0.767           0.443\n",
              "L3.return               -0.003700         0.017320           -0.214           0.831\n",
              "L3.negative tone         0.104949         0.037539            2.796           0.005\n",
              "L4.return               -0.026375         0.017318           -1.523           0.128\n",
              "L4.negative tone         0.021080         0.037663            0.560           0.576\n",
              "L5.return                0.031760         0.017347            1.831           0.067\n",
              "L5.negative tone         0.028302         0.037460            0.756           0.450\n",
              "L6.return               -0.000389         0.017360           -0.022           0.982\n",
              "L6.negative tone         0.041430         0.037520            1.104           0.270\n",
              "L7.return                0.012331         0.017283            0.713           0.476\n",
              "L7.negative tone         0.160342         0.037346            4.293           0.000\n",
              "===================================================================================\n",
              "\n",
              "Correlation matrix of residuals\n",
              "                   return  negative tone\n",
              "return           1.000000      -0.026720\n",
              "negative tone   -0.026720       1.000000\n",
              "\n"
            ]
          },
          "metadata": {
            "tags": []
          },
          "execution_count": 16
        }
      ]
    },
    {
      "cell_type": "code",
      "metadata": {
        "id": "oQt4xV7U22hI",
        "colab": {
          "base_uri": "https://localhost:8080/"
        },
        "outputId": "4f2c73ea-e219-43d9-8f89-9450fee01335"
      },
      "source": [
        "from statsmodels.stats.stattools import durbin_watson\r\n",
        "out = durbin_watson(model_fitted.resid)\r\n",
        "\r\n",
        "for col, val in zip(df.columns, out):\r\n",
        "    print(col, ':', round(val, 2))"
      ],
      "execution_count": null,
      "outputs": [
        {
          "output_type": "stream",
          "text": [
            "return : 2.02\n",
            "negative tone : 2.01\n"
          ],
          "name": "stdout"
        }
      ]
    },
    {
      "cell_type": "code",
      "metadata": {
        "id": "vhMlrqfmlKyt",
        "colab": {
          "base_uri": "https://localhost:8080/"
        },
        "outputId": "6803bc5f-68f0-46da-91fd-ec5fa64ed685"
      },
      "source": [
        "# Get the lag order\r\n",
        "lag_order = model_fitted.k_ar\r\n",
        "print(lag_order)  #1\r\n",
        "\r\n",
        "# Input data for forecasting\r\n",
        "forecast_input = df_train.values[-lag_order:]\r\n",
        "forecast_input"
      ],
      "execution_count": null,
      "outputs": [
        {
          "output_type": "stream",
          "text": [
            "7\n"
          ],
          "name": "stdout"
        },
        {
          "output_type": "execute_result",
          "data": {
            "text/plain": [
              "array([[ 0.03,  0.87],\n",
              "       [ 0.  ,  2.02],\n",
              "       [ 0.  ,  2.21],\n",
              "       [ 0.37,  1.5 ],\n",
              "       [ 0.94,  0.95],\n",
              "       [ 0.  ,  1.74],\n",
              "       [-1.03,  1.18]])"
            ]
          },
          "metadata": {
            "tags": []
          },
          "execution_count": 18
        }
      ]
    },
    {
      "cell_type": "code",
      "metadata": {
        "id": "wr3s2ZcAcsJs",
        "colab": {
          "base_uri": "https://localhost:8080/",
          "height": 235
        },
        "outputId": "417a21ca-ed58-462d-961b-2ccd0ed81bf3"
      },
      "source": [
        "# Forecast\r\n",
        "fc = model_fitted.forecast(y=forecast_input, steps=t)\r\n",
        "\r\n",
        "df_forecast = pd.DataFrame(fc, index=df.index[-t:], columns=df.columns)\r\n",
        "df_forecast"
      ],
      "execution_count": null,
      "outputs": [
        {
          "output_type": "execute_result",
          "data": {
            "text/html": [
              "<div>\n",
              "<style scoped>\n",
              "    .dataframe tbody tr th:only-of-type {\n",
              "        vertical-align: middle;\n",
              "    }\n",
              "\n",
              "    .dataframe tbody tr th {\n",
              "        vertical-align: top;\n",
              "    }\n",
              "\n",
              "    .dataframe thead th {\n",
              "        text-align: right;\n",
              "    }\n",
              "</style>\n",
              "<table border=\"1\" class=\"dataframe\">\n",
              "  <thead>\n",
              "    <tr style=\"text-align: right;\">\n",
              "      <th></th>\n",
              "      <th>return</th>\n",
              "      <th>negative tone</th>\n",
              "    </tr>\n",
              "    <tr>\n",
              "      <th>Date</th>\n",
              "      <th></th>\n",
              "      <th></th>\n",
              "    </tr>\n",
              "  </thead>\n",
              "  <tbody>\n",
              "    <tr>\n",
              "      <th>2019-12-27</th>\n",
              "      <td>-0.061392</td>\n",
              "      <td>1.394765</td>\n",
              "    </tr>\n",
              "    <tr>\n",
              "      <th>2019-12-28</th>\n",
              "      <td>-0.016085</td>\n",
              "      <td>1.639964</td>\n",
              "    </tr>\n",
              "    <tr>\n",
              "      <th>2019-12-29</th>\n",
              "      <td>0.164812</td>\n",
              "      <td>1.667223</td>\n",
              "    </tr>\n",
              "    <tr>\n",
              "      <th>2019-12-30</th>\n",
              "      <td>0.115456</td>\n",
              "      <td>1.571197</td>\n",
              "    </tr>\n",
              "    <tr>\n",
              "      <th>2019-12-31</th>\n",
              "      <td>0.064668</td>\n",
              "      <td>1.469143</td>\n",
              "    </tr>\n",
              "  </tbody>\n",
              "</table>\n",
              "</div>"
            ],
            "text/plain": [
              "              return  negative tone\n",
              "Date                               \n",
              "2019-12-27 -0.061392       1.394765\n",
              "2019-12-28 -0.016085       1.639964\n",
              "2019-12-29  0.164812       1.667223\n",
              "2019-12-30  0.115456       1.571197\n",
              "2019-12-31  0.064668       1.469143"
            ]
          },
          "metadata": {
            "tags": []
          },
          "execution_count": 19
        }
      ]
    },
    {
      "cell_type": "code",
      "metadata": {
        "id": "LSVYaKuiAXud",
        "colab": {
          "base_uri": "https://localhost:8080/"
        },
        "outputId": "fc4d498f-56d5-4b91-b1e0-73cb059398f3"
      },
      "source": [
        "from statsmodels.tsa.stattools import acf\r\n",
        "def forecast_accuracy(forecast, actual):\r\n",
        "    mape = np.mean(np.abs(forecast - actual)/np.abs(actual))  # MAPE\r\n",
        "    me = np.mean(forecast - actual)             # ME\r\n",
        "    mae = np.mean(np.abs(forecast - actual))    # MAE\r\n",
        "    mpe = np.mean((forecast - actual)/actual)   # MPE\r\n",
        "    rmse = np.mean((forecast - actual)**2)**.5  # RMSE\r\n",
        "    corr = np.corrcoef(forecast, actual)[0,1]   # corr\r\n",
        "    \r\n",
        "    return({'mape':mape, 'me':me, 'mae': mae, \r\n",
        "            'mpe': mpe, 'rmse':rmse, 'corr':corr})\r\n",
        "\r\n",
        "print('Forecast Accuracy of: return')\r\n",
        "accuracy_prod = forecast_accuracy(df_forecast['return'].values, df_test['return'])\r\n",
        "for k, v in accuracy_prod.items():\r\n",
        "    print(k, ': ', round(v,4))\r\n",
        "\r\n",
        "print('\\nForecast Accuracy of: negative tone')\r\n",
        "accuracy_prod = forecast_accuracy(df_forecast['negative tone'].values, df_test['negative tone'])\r\n",
        "for k, v in accuracy_prod.items():\r\n",
        "    print(k, ': ', round(v,4))\r\n",
        "\r\n"
      ],
      "execution_count": null,
      "outputs": [
        {
          "output_type": "stream",
          "text": [
            "Forecast Accuracy of: return\n",
            "mape :  inf\n",
            "me :  -0.0645\n",
            "mae :  0.2317\n",
            "mpe :  nan\n",
            "rmse :  0.3441\n",
            "corr :  0.5211\n",
            "\n",
            "Forecast Accuracy of: negative tone\n",
            "mape :  0.5864\n",
            "me :  0.1745\n",
            "mae :  0.5948\n",
            "mpe :  0.3908\n",
            "rmse :  0.6444\n",
            "corr :  0.0763\n"
          ],
          "name": "stdout"
        }
      ]
    },
    {
      "cell_type": "code",
      "metadata": {
        "id": "XZoCwfq-FOmZ"
      },
      "source": [
        ""
      ],
      "execution_count": null,
      "outputs": []
    }
  ]
}