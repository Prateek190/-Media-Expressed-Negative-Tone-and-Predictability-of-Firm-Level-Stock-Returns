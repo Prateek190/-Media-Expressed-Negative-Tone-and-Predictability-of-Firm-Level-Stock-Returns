{
  "nbformat": 4,
  "nbformat_minor": 0,
  "metadata": {
    "colab": {
      "name": "VAR_UltraTech",
      "provenance": [],
      "collapsed_sections": []
    },
    "kernelspec": {
      "name": "python3",
      "display_name": "Python 3"
    }
  },
  "cells": [
    {
      "cell_type": "code",
      "metadata": {
        "id": "aTt-bLhWqiVF",
        "colab": {
          "base_uri": "https://localhost:8080/"
        },
        "outputId": "381d0879-6821-40f2-d1db-800b8f03a885"
      },
      "source": [
        "import pandas as pd\n",
        "import numpy as np\n",
        "import os\n",
        "import matplotlib.pyplot as plt\n",
        "%matplotlib inline\n",
        "from statsmodels.tsa.api import VAR\n",
        "from statsmodels.tsa.stattools import adfuller\n",
        "from statsmodels.tools.eval_measures import rmse,aic"
      ],
      "execution_count": null,
      "outputs": [
        {
          "output_type": "stream",
          "text": [
            "/usr/local/lib/python3.6/dist-packages/statsmodels/tools/_testing.py:19: FutureWarning: pandas.util.testing is deprecated. Use the functions in the public API at pandas.testing instead.\n",
            "  import pandas.util.testing as tm\n"
          ],
          "name": "stderr"
        }
      ]
    },
    {
      "cell_type": "code",
      "metadata": {
        "colab": {
          "base_uri": "https://localhost:8080/"
        },
        "id": "okTUchVHJM1n",
        "outputId": "2793465c-626d-45b5-9e67-7d8fe90fcceb"
      },
      "source": [
        "from google.colab import drive\n",
        "drive.mount('/content/drive')"
      ],
      "execution_count": null,
      "outputs": [
        {
          "output_type": "stream",
          "text": [
            "Mounted at /content/drive\n"
          ],
          "name": "stdout"
        }
      ]
    },
    {
      "cell_type": "code",
      "metadata": {
        "id": "a5PP2bF1rhX1",
        "colab": {
          "base_uri": "https://localhost:8080/",
          "height": 450
        },
        "outputId": "b3436115-fd0a-409c-ac61-66e9f42c524a"
      },
      "source": [
        "r=pd.read_csv(\"/content/drive/My Drive/stock/final_ULTRACEMCO.NS.csv\")\n",
        "nt=pd.read_csv(\"/content/drive/My Drive/tone/pct730/pct730_UltraTech.csv\")\n",
        "df=pd.DataFrame()\n",
        "df['return']=r['return']\n",
        "df['negative tone']=nt['PCT']\n",
        "df['Date']=r['Date']\n",
        "df.set_index('Date',inplace=True)\n",
        "df[~df.isin([np.nan, np.inf, -np.inf]).any(1)]\n",
        "df.replace([np.inf, -np.inf], np.nan)\n",
        "\n",
        "df.dropna(inplace=True)\n",
        "df\n",
        "\n"
      ],
      "execution_count": null,
      "outputs": [
        {
          "output_type": "execute_result",
          "data": {
            "text/html": [
              "<div>\n",
              "<style scoped>\n",
              "    .dataframe tbody tr th:only-of-type {\n",
              "        vertical-align: middle;\n",
              "    }\n",
              "\n",
              "    .dataframe tbody tr th {\n",
              "        vertical-align: top;\n",
              "    }\n",
              "\n",
              "    .dataframe thead th {\n",
              "        text-align: right;\n",
              "    }\n",
              "</style>\n",
              "<table border=\"1\" class=\"dataframe\">\n",
              "  <thead>\n",
              "    <tr style=\"text-align: right;\">\n",
              "      <th></th>\n",
              "      <th>return</th>\n",
              "      <th>negative tone</th>\n",
              "    </tr>\n",
              "    <tr>\n",
              "      <th>Date</th>\n",
              "      <th></th>\n",
              "      <th></th>\n",
              "    </tr>\n",
              "  </thead>\n",
              "  <tbody>\n",
              "    <tr>\n",
              "      <th>2018-01-01</th>\n",
              "      <td>0.00</td>\n",
              "      <td>0.0</td>\n",
              "    </tr>\n",
              "    <tr>\n",
              "      <th>2018-01-02</th>\n",
              "      <td>-0.09</td>\n",
              "      <td>0.0</td>\n",
              "    </tr>\n",
              "    <tr>\n",
              "      <th>2018-01-03</th>\n",
              "      <td>1.17</td>\n",
              "      <td>0.0</td>\n",
              "    </tr>\n",
              "    <tr>\n",
              "      <th>2018-01-04</th>\n",
              "      <td>1.01</td>\n",
              "      <td>0.0</td>\n",
              "    </tr>\n",
              "    <tr>\n",
              "      <th>2018-01-05</th>\n",
              "      <td>1.16</td>\n",
              "      <td>0.0</td>\n",
              "    </tr>\n",
              "    <tr>\n",
              "      <th>...</th>\n",
              "      <td>...</td>\n",
              "      <td>...</td>\n",
              "    </tr>\n",
              "    <tr>\n",
              "      <th>2019-12-27</th>\n",
              "      <td>1.44</td>\n",
              "      <td>0.0</td>\n",
              "    </tr>\n",
              "    <tr>\n",
              "      <th>2019-12-28</th>\n",
              "      <td>0.00</td>\n",
              "      <td>0.0</td>\n",
              "    </tr>\n",
              "    <tr>\n",
              "      <th>2019-12-29</th>\n",
              "      <td>0.00</td>\n",
              "      <td>0.0</td>\n",
              "    </tr>\n",
              "    <tr>\n",
              "      <th>2019-12-30</th>\n",
              "      <td>-1.31</td>\n",
              "      <td>0.0</td>\n",
              "    </tr>\n",
              "    <tr>\n",
              "      <th>2019-12-31</th>\n",
              "      <td>0.00</td>\n",
              "      <td>0.0</td>\n",
              "    </tr>\n",
              "  </tbody>\n",
              "</table>\n",
              "<p>728 rows × 2 columns</p>\n",
              "</div>"
            ],
            "text/plain": [
              "            return  negative tone\n",
              "Date                             \n",
              "2018-01-01    0.00            0.0\n",
              "2018-01-02   -0.09            0.0\n",
              "2018-01-03    1.17            0.0\n",
              "2018-01-04    1.01            0.0\n",
              "2018-01-05    1.16            0.0\n",
              "...            ...            ...\n",
              "2019-12-27    1.44            0.0\n",
              "2019-12-28    0.00            0.0\n",
              "2019-12-29    0.00            0.0\n",
              "2019-12-30   -1.31            0.0\n",
              "2019-12-31    0.00            0.0\n",
              "\n",
              "[728 rows x 2 columns]"
            ]
          },
          "metadata": {
            "tags": []
          },
          "execution_count": 3
        }
      ]
    },
    {
      "cell_type": "code",
      "metadata": {
        "id": "oalP4NKkAMMu",
        "colab": {
          "base_uri": "https://localhost:8080/",
          "height": 724
        },
        "outputId": "76b14f38-bbe7-431c-ffbe-ae2f804d6e39"
      },
      "source": [
        "fig, axes = plt.subplots(nrows=1, ncols=2, dpi=120, figsize=(10,6))\n",
        "for i, ax in enumerate(axes.flatten()):\n",
        "    data = df[df.columns[i]]\n",
        "    ax.plot(data, color='red', linewidth=1)\n",
        "    # Decorations\n",
        "    ax.set_title(df.columns[i])\n",
        "    ax.xaxis.set_ticks_position('none')\n",
        "    ax.yaxis.set_ticks_position('none')\n",
        "    ax.spines[\"top\"].set_alpha(0)\n",
        "    ax.tick_params(labelsize=6)\n",
        "\n",
        "plt.tight_layout();"
      ],
      "execution_count": null,
      "outputs": [
        {
          "output_type": "display_data",
          "data": {
            "image/png": "[encoded data removed]",
            "text/plain": [
              "<Figure size 1200x720 with 2 Axes>"
            ]
          },
          "metadata": {
            "tags": [],
            "needs_background": "light"
          }
        }
      ]
    },
    {
      "cell_type": "code",
      "metadata": {
        "id": "bJXLim6uAW7_",
        "colab": {
          "base_uri": "https://localhost:8080/",
          "height": 111
        },
        "outputId": "c1ed15b0-0c9f-4eac-e881-6a5a24648672"
      },
      "source": [
        "from statsmodels.tsa.stattools import grangercausalitytests\n",
        "maxlag=12\n",
        "test = 'ssr_chi2test'\n",
        "def grangers_causation_matrix(data, variables, test='ssr_chi2test', verbose=False):    \n",
        "    \"\"\"Check Granger Causality of all possible combinations of the Time series.\n",
        "    The rows are the response variable, columns are predictors. The values in the table \n",
        "    are the P-Values. P-Values lesser than the significance level (0.05), implies \n",
        "    the Null Hypothesis that the coefficients of the corresponding past values is \n",
        "    zero, that is, the X does not cause Y can be rejected.\n",
        "\n",
        "    data      : pandas dataframe containing the time series variables\n",
        "    variables : list containing names of the time series variables.\n",
        "    \"\"\"\n",
        "    df = pd.DataFrame(np.zeros((len(variables), len(variables))), columns=variables, index=variables)\n",
        "    for c in df.columns:\n",
        "        for r in df.index:\n",
        "            test_result = grangercausalitytests(data[[r, c]], maxlag=maxlag, verbose=False)\n",
        "            p_values = [round(test_result[i+1][0][test][1],4) for i in range(maxlag)]\n",
        "            if verbose: print(f'Y = {r}, X = {c}, P Values = {p_values}')\n",
        "            min_p_value = np.min(p_values)\n",
        "            df.loc[r, c] = min_p_value\n",
        "    df.columns = [var + '_x' for var in variables]\n",
        "    df.index = [var + '_y' for var in variables]\n",
        "    return df\n",
        "\n",
        "grangers_causation_matrix(df, variables = df.columns) "
      ],
      "execution_count": null,
      "outputs": [
        {
          "output_type": "execute_result",
          "data": {
            "text/html": [
              "<div>\n",
              "<style scoped>\n",
              "    .dataframe tbody tr th:only-of-type {\n",
              "        vertical-align: middle;\n",
              "    }\n",
              "\n",
              "    .dataframe tbody tr th {\n",
              "        vertical-align: top;\n",
              "    }\n",
              "\n",
              "    .dataframe thead th {\n",
              "        text-align: right;\n",
              "    }\n",
              "</style>\n",
              "<table border=\"1\" class=\"dataframe\">\n",
              "  <thead>\n",
              "    <tr style=\"text-align: right;\">\n",
              "      <th></th>\n",
              "      <th>return_x</th>\n",
              "      <th>negative tone_x</th>\n",
              "    </tr>\n",
              "  </thead>\n",
              "  <tbody>\n",
              "    <tr>\n",
              "      <th>return_y</th>\n",
              "      <td>1.000</td>\n",
              "      <td>0.3968</td>\n",
              "    </tr>\n",
              "    <tr>\n",
              "      <th>negative tone_y</th>\n",
              "      <td>0.121</td>\n",
              "      <td>1.0000</td>\n",
              "    </tr>\n",
              "  </tbody>\n",
              "</table>\n",
              "</div>"
            ],
            "text/plain": [
              "                 return_x  negative tone_x\n",
              "return_y            1.000           0.3968\n",
              "negative tone_y     0.121           1.0000"
            ]
          },
          "metadata": {
            "tags": []
          },
          "execution_count": 5
        }
      ]
    },
    {
      "cell_type": "code",
      "metadata": {
        "id": "sw-oAStCMAgj"
      },
      "source": [
        "# Results from Granger Casuality test can be read as : negative tone causes return (10% significance) but return do not causes negative tone.\n"
      ],
      "execution_count": null,
      "outputs": []
    },
    {
      "cell_type": "code",
      "metadata": {
        "id": "4o50qsaedyyu",
        "colab": {
          "base_uri": "https://localhost:8080/"
        },
        "outputId": "fb4da396-1261-46d2-a6d9-a86426b4f8fb"
      },
      "source": [
        "t = 5\n",
        "df_train, df_test = df[0:-t], df[-t:]\n",
        "\n",
        "# Check size\n",
        "print(df_train.shape)  # (655, 2)\n",
        "print(df_test.shape)  # (73, 2)\n"
      ],
      "execution_count": null,
      "outputs": [
        {
          "output_type": "stream",
          "text": [
            "(723, 2)\n",
            "(5, 2)\n"
          ],
          "name": "stdout"
        }
      ]
    },
    {
      "cell_type": "code",
      "metadata": {
        "id": "nIl2Hdo0hBuI"
      },
      "source": [
        "def adfuller_test(series, signif=0.05, name='', verbose=False):\n",
        "    \"\"\"Perform ADFuller to test for Stationarity of given series and print report\"\"\"\n",
        "    r = adfuller(series, autolag='AIC')\n",
        "    output = {'test_statistic':round(r[0], 4), 'pvalue':round(r[1], 4), 'n_lags':round(r[2], 4), 'n_obs':r[3]}\n",
        "    p_value = output['pvalue'] \n",
        "    def adjust(val, length= 6): return str(val).ljust(length)\n",
        "\n",
        "    # Print Summary\n",
        "    print(f'    Augmented Dickey-Fuller Test on \"{name}\"', \"\\n   \", '-'*47)\n",
        "    print(f' Null Hypothesis: Data has unit root. Non-Stationary.')\n",
        "    print(f' Significance Level    = {signif}')\n",
        "    print(f' Test Statistic        = {output[\"test_statistic\"]}')\n",
        "    print(f' No. Lags Chosen       = {output[\"n_lags\"]}')\n",
        "\n",
        "    for key,val in r[4].items():\n",
        "        print(f' Critical value {adjust(key)} = {round(val, 3)}')\n",
        "\n",
        "    if p_value <= signif:\n",
        "        print(f\" => P-Value = {p_value}. Rejecting Null Hypothesis.\")\n",
        "        print(f\" => Series is Stationary.\")\n",
        "    else:\n",
        "        print(f\" => P-Value = {p_value}. Weak evidence to reject the Null Hypothesis.\")\n",
        "        print(f\" => Series is Non-Stationary.\") "
      ],
      "execution_count": null,
      "outputs": []
    },
    {
      "cell_type": "code",
      "metadata": {
        "id": "k1WENsT3wLnE",
        "colab": {
          "base_uri": "https://localhost:8080/"
        },
        "outputId": "27d7b477-8bcd-4bb0-86b7-8bf61115ed1c"
      },
      "source": [
        "# ADF Test on each column\n",
        "for name, column in df_train.iteritems():\n",
        "    adfuller_test(column, name=column.name)\n",
        "    print('\\n')"
      ],
      "execution_count": null,
      "outputs": [
        {
          "output_type": "stream",
          "text": [
            "    Augmented Dickey-Fuller Test on \"return\" \n",
            "    -----------------------------------------------\n",
            " Null Hypothesis: Data has unit root. Non-Stationary.\n",
            " Significance Level    = 0.05\n",
            " Test Statistic        = -27.0568\n",
            " No. Lags Chosen       = 0\n",
            " Critical value 1%     = -3.439\n",
            " Critical value 5%     = -2.866\n",
            " Critical value 10%    = -2.569\n",
            " => P-Value = 0.0. Rejecting Null Hypothesis.\n",
            " => Series is Stationary.\n",
            "\n",
            "\n",
            "    Augmented Dickey-Fuller Test on \"negative tone\" \n",
            "    -----------------------------------------------\n",
            " Null Hypothesis: Data has unit root. Non-Stationary.\n",
            " Significance Level    = 0.05\n",
            " Test Statistic        = -4.7854\n",
            " No. Lags Chosen       = 13\n",
            " Critical value 1%     = -3.44\n",
            " Critical value 5%     = -2.866\n",
            " Critical value 10%    = -2.569\n",
            " => P-Value = 0.0001. Rejecting Null Hypothesis.\n",
            " => Series is Stationary.\n",
            "\n",
            "\n"
          ],
          "name": "stdout"
        }
      ]
    },
    {
      "cell_type": "code",
      "metadata": {
        "id": "g75LrN35wPvT",
        "colab": {
          "base_uri": "https://localhost:8080/"
        },
        "outputId": "5f2ac563-50df-4c0e-b7f8-8ae5cc5f8be7"
      },
      "source": [
        "model = VAR(df_train)\r\n",
        "for i in [1,2,3,4,5,6,7,8,9,10,11,12]:\r\n",
        "    result = model.fit(i)\r\n",
        "    print('Lag Order =', i)\r\n",
        "    print('AIC : ', result.aic)\r\n",
        "    print('BIC : ', result.bic)\r\n",
        "    print('FPE : ', result.fpe)\r\n",
        "    print('HQIC: ', result.hqic, '\\n')\r\n",
        "print(df_train[-t:])   "
      ],
      "execution_count": null,
      "outputs": [
        {
          "output_type": "stream",
          "text": [
            "Lag Order = 1\n",
            "AIC :  0.8097833660854492\n",
            "BIC :  0.8478611373227858\n",
            "FPE :  2.247421281284403\n",
            "HQIC:  0.8244815788807964 \n",
            "\n",
            "Lag Order = 2\n",
            "AIC :  0.8146694423536466\n",
            "BIC :  0.878201191830553\n",
            "FPE :  2.2584300122680396\n",
            "HQIC:  0.8391945983576985 \n",
            "\n",
            "Lag Order = 3\n",
            "AIC :  0.8124464895557222\n",
            "BIC :  0.9014874853448075\n",
            "FPE :  2.2534169640136295\n",
            "HQIC:  0.8468211928283031 \n",
            "\n",
            "Lag Order = 4\n",
            "AIC :  0.8202724161469902\n",
            "BIC :  0.9348781246852084\n",
            "FPE :  2.2711243822540044\n",
            "HQIC:  0.8645193537711893 \n",
            "\n",
            "Lag Order = 5\n",
            "AIC :  0.8278049858945464\n",
            "BIC :  0.9680310729684475\n",
            "FPE :  2.2883013667288234\n",
            "HQIC:  0.8819469283936546 \n",
            "\n",
            "Lag Order = 6\n",
            "AIC :  0.8353733766461366\n",
            "BIC :  1.0012757083833614\n",
            "FPE :  2.305693099931127\n",
            "HQIC:  0.8994331784032379 \n",
            "\n",
            "Lag Order = 7\n",
            "AIC :  0.8450865807482391\n",
            "BIC :  1.0367212246153052\n",
            "FPE :  2.3282079314110744\n",
            "HQIC:  0.9190871804284761 \n",
            "\n",
            "Lag Order = 8\n",
            "AIC :  0.8531082394086225\n",
            "BIC :  1.0705314652150508\n",
            "FPE :  2.3469724225194115\n",
            "HQIC:  0.9370726603841579 \n",
            "\n",
            "Lag Order = 9\n",
            "AIC :  0.8643661550683722\n",
            "BIC :  1.1076344359772017\n",
            "FPE :  2.373560837553275\n",
            "HQIC:  0.9583175058460652 \n",
            "\n",
            "Lag Order = 10\n",
            "AIC :  0.8630666960382379\n",
            "BIC :  1.132236709582979\n",
            "FPE :  2.3704997083356276\n",
            "HQIC:  0.9670281706900586 \n",
            "\n",
            "Lag Order = 11\n",
            "AIC :  0.865170645817871\n",
            "BIC :  1.160299274925948\n",
            "FPE :  2.3755182377938593\n",
            "HQIC:  0.9791655244140728 \n",
            "\n",
            "Lag Order = 12\n",
            "AIC :  0.8769316664055893\n",
            "BIC :  1.1980760004283206\n",
            "FPE :  2.4036530212220413\n",
            "HQIC:  1.0009833154506609 \n",
            "\n",
            "            return  negative tone\n",
            "Date                             \n",
            "2019-12-22    0.00           0.00\n",
            "2019-12-23   -0.23           1.09\n",
            "2019-12-24    2.27           0.00\n",
            "2019-12-25    0.00           0.00\n",
            "2019-12-26   -0.52           0.00\n"
          ],
          "name": "stdout"
        },
        {
          "output_type": "stream",
          "text": [
            "/usr/local/lib/python3.6/dist-packages/statsmodels/tsa/base/tsa_model.py:219: ValueWarning: A date index has been provided, but it has no associated frequency information and so will be ignored when e.g. forecasting.\n",
            "  ' ignored when e.g. forecasting.', ValueWarning)\n"
          ],
          "name": "stderr"
        }
      ]
    },
    {
      "cell_type": "code",
      "metadata": {
        "colab": {
          "base_uri": "https://localhost:8080/",
          "height": 347
        },
        "id": "O9yZVJin1LTq",
        "outputId": "c30f46a1-c030-491b-e6dd-2020a49b2e75"
      },
      "source": [
        "x = model.select_order(maxlags=12)\r\n",
        "x.summary()"
      ],
      "execution_count": null,
      "outputs": [
        {
          "output_type": "execute_result",
          "data": {
            "text/html": [
              "<table class=\"simpletable\">\n",
              "<caption>VAR Order Selection (* highlights the minimums)</caption>\n",
              "<tr>\n",
              "   <td></td>      <th>AIC</th>         <th>BIC</th>         <th>FPE</th>        <th>HQIC</th>    \n",
              "</tr>\n",
              "<tr>\n",
              "  <th>0</th>  <td>    0.8271*</td> <td>    0.8400*</td> <td>     2.287*</td> <td>    0.8321*</td>\n",
              "</tr>\n",
              "<tr>\n",
              "  <th>1</th>  <td>    0.8283</td>  <td>    0.8668</td>  <td>     2.289</td>  <td>    0.8432</td> \n",
              "</tr>\n",
              "<tr>\n",
              "  <th>2</th>  <td>    0.8313</td>  <td>    0.8955</td>  <td>     2.296</td>  <td>    0.8561</td> \n",
              "</tr>\n",
              "<tr>\n",
              "  <th>3</th>  <td>    0.8276</td>  <td>    0.9175</td>  <td>     2.288</td>  <td>    0.8623</td> \n",
              "</tr>\n",
              "<tr>\n",
              "  <th>4</th>  <td>    0.8335</td>  <td>    0.9491</td>  <td>     2.301</td>  <td>    0.8781</td> \n",
              "</tr>\n",
              "<tr>\n",
              "  <th>5</th>  <td>    0.8391</td>  <td>    0.9804</td>  <td>     2.314</td>  <td>    0.8937</td> \n",
              "</tr>\n",
              "<tr>\n",
              "  <th>6</th>  <td>    0.8438</td>  <td>     1.011</td>  <td>     2.325</td>  <td>    0.9083</td> \n",
              "</tr>\n",
              "<tr>\n",
              "  <th>7</th>  <td>    0.8506</td>  <td>     1.043</td>  <td>     2.341</td>  <td>    0.9250</td> \n",
              "</tr>\n",
              "<tr>\n",
              "  <th>8</th>  <td>    0.8564</td>  <td>     1.075</td>  <td>     2.355</td>  <td>    0.9408</td> \n",
              "</tr>\n",
              "<tr>\n",
              "  <th>9</th>  <td>    0.8651</td>  <td>     1.109</td>  <td>     2.375</td>  <td>    0.9593</td> \n",
              "</tr>\n",
              "<tr>\n",
              "  <th>10</th> <td>    0.8679</td>  <td>     1.138</td>  <td>     2.382</td>  <td>    0.9721</td> \n",
              "</tr>\n",
              "<tr>\n",
              "  <th>11</th> <td>    0.8674</td>  <td>     1.163</td>  <td>     2.381</td>  <td>    0.9816</td> \n",
              "</tr>\n",
              "<tr>\n",
              "  <th>12</th> <td>    0.8769</td>  <td>     1.198</td>  <td>     2.404</td>  <td>     1.001</td> \n",
              "</tr>\n",
              "</table>"
            ],
            "text/plain": [
              "<class 'statsmodels.iolib.table.SimpleTable'>"
            ]
          },
          "metadata": {
            "tags": []
          },
          "execution_count": 12
        }
      ]
    },
    {
      "cell_type": "code",
      "metadata": {
        "colab": {
          "base_uri": "https://localhost:8080/"
        },
        "id": "5SN_79o61nUA",
        "outputId": "a4cf6ca7-e983-4c8a-e837-3fc4c50db6de"
      },
      "source": [
        "model_fitted = model.fit(3)\r\n",
        "model_fitted.summary()"
      ],
      "execution_count": null,
      "outputs": [
        {
          "output_type": "execute_result",
          "data": {
            "text/plain": [
              "  Summary of Regression Results   \n",
              "==================================\n",
              "Model:                         VAR\n",
              "Method:                        OLS\n",
              "Date:           Mon, 04, Jan, 2021\n",
              "Time:                     13:43:47\n",
              "--------------------------------------------------------------------\n",
              "No. of Equations:         2.00000    BIC:                   0.901487\n",
              "Nobs:                     720.000    HQIC:                  0.846821\n",
              "Log likelihood:          -2321.75    FPE:                    2.25342\n",
              "AIC:                     0.812446    Det(Omega_mle):         2.21023\n",
              "--------------------------------------------------------------------\n",
              "Results for equation return\n",
              "===================================================================================\n",
              "                      coefficient       std. error           t-stat            prob\n",
              "-----------------------------------------------------------------------------------\n",
              "const                    0.055952         0.074050            0.756           0.450\n",
              "L1.return               -0.008194         0.037444           -0.219           0.827\n",
              "L1.negative tone        -0.007690         0.049866           -0.154           0.877\n",
              "L2.return                0.009145         0.037450            0.244           0.807\n",
              "L2.negative tone         0.014912         0.049866            0.299           0.765\n",
              "L3.return               -0.016579         0.037622           -0.441           0.659\n",
              "L3.negative tone        -0.083979         0.049734           -1.689           0.091\n",
              "===================================================================================\n",
              "\n",
              "Results for equation negative tone\n",
              "===================================================================================\n",
              "                      coefficient       std. error           t-stat            prob\n",
              "-----------------------------------------------------------------------------------\n",
              "const                    0.504192         0.055428            9.096           0.000\n",
              "L1.return                0.017864         0.028028            0.637           0.524\n",
              "L1.negative tone         0.090124         0.037326            2.414           0.016\n",
              "L2.return                0.055002         0.028032            1.962           0.050\n",
              "L2.negative tone         0.050827         0.037325            1.362           0.173\n",
              "L3.return               -0.031630         0.028161           -1.123           0.261\n",
              "L3.negative tone         0.094583         0.037227            2.541           0.011\n",
              "===================================================================================\n",
              "\n",
              "Correlation matrix of residuals\n",
              "                   return  negative tone\n",
              "return           1.000000      -0.061495\n",
              "negative tone   -0.061495       1.000000\n",
              "\n"
            ]
          },
          "metadata": {
            "tags": []
          },
          "execution_count": 13
        }
      ]
    },
    {
      "cell_type": "code",
      "metadata": {
        "id": "oQt4xV7U22hI",
        "colab": {
          "base_uri": "https://localhost:8080/"
        },
        "outputId": "e06ce31a-7961-4038-f813-c24d111cdf67"
      },
      "source": [
        "from statsmodels.stats.stattools import durbin_watson\r\n",
        "out = durbin_watson(model_fitted.resid)\r\n",
        "\r\n",
        "for col, val in zip(df.columns, out):\r\n",
        "    print(col, ':', round(val, 2))"
      ],
      "execution_count": null,
      "outputs": [
        {
          "output_type": "stream",
          "text": [
            "return : 2.0\n",
            "negative tone : 2.01\n"
          ],
          "name": "stdout"
        }
      ]
    },
    {
      "cell_type": "code",
      "metadata": {
        "id": "vhMlrqfmlKyt",
        "colab": {
          "base_uri": "https://localhost:8080/"
        },
        "outputId": "02b62ee1-f1b8-4e76-eba8-2a80bc9ce4dc"
      },
      "source": [
        "# Get the lag order\r\n",
        "lag_order = model_fitted.k_ar\r\n",
        "print(lag_order)  #1\r\n",
        "\r\n",
        "# Input data for forecasting\r\n",
        "forecast_input = df_train.values[-lag_order:]\r\n",
        "forecast_input"
      ],
      "execution_count": null,
      "outputs": [
        {
          "output_type": "stream",
          "text": [
            "3\n"
          ],
          "name": "stdout"
        },
        {
          "output_type": "execute_result",
          "data": {
            "text/plain": [
              "array([[ 2.27,  0.  ],\n",
              "       [ 0.  ,  0.  ],\n",
              "       [-0.52,  0.  ]])"
            ]
          },
          "metadata": {
            "tags": []
          },
          "execution_count": 15
        }
      ]
    },
    {
      "cell_type": "code",
      "metadata": {
        "colab": {
          "base_uri": "https://localhost:8080/",
          "height": 235
        },
        "id": "wr3s2ZcAcsJs",
        "outputId": "79326b60-1f82-40be-f329-dd052bd1d3dd"
      },
      "source": [
        "# Forecast\r\n",
        "fc = model_fitted.forecast(y=forecast_input, steps=t)\r\n",
        "\r\n",
        "df_forecast = pd.DataFrame(fc, index=df.index[-t:], columns=df.columns)\r\n",
        "df_forecast"
      ],
      "execution_count": null,
      "outputs": [
        {
          "output_type": "execute_result",
          "data": {
            "text/html": [
              "<div>\n",
              "<style scoped>\n",
              "    .dataframe tbody tr th:only-of-type {\n",
              "        vertical-align: middle;\n",
              "    }\n",
              "\n",
              "    .dataframe tbody tr th {\n",
              "        vertical-align: top;\n",
              "    }\n",
              "\n",
              "    .dataframe thead th {\n",
              "        text-align: right;\n",
              "    }\n",
              "</style>\n",
              "<table border=\"1\" class=\"dataframe\">\n",
              "  <thead>\n",
              "    <tr style=\"text-align: right;\">\n",
              "      <th></th>\n",
              "      <th>return</th>\n",
              "      <th>negative tone</th>\n",
              "    </tr>\n",
              "    <tr>\n",
              "      <th>Date</th>\n",
              "      <th></th>\n",
              "      <th></th>\n",
              "    </tr>\n",
              "  </thead>\n",
              "  <tbody>\n",
              "    <tr>\n",
              "      <th>2019-12-27</th>\n",
              "      <td>0.022579</td>\n",
              "      <td>0.423103</td>\n",
              "    </tr>\n",
              "    <tr>\n",
              "      <th>2019-12-28</th>\n",
              "      <td>0.047758</td>\n",
              "      <td>0.514126</td>\n",
              "    </tr>\n",
              "    <tr>\n",
              "      <th>2019-12-29</th>\n",
              "      <td>0.066744</td>\n",
              "      <td>0.590575</td>\n",
              "    </tr>\n",
              "    <tr>\n",
              "      <th>2019-12-30</th>\n",
              "      <td>0.023061</td>\n",
              "      <td>0.626672</td>\n",
              "    </tr>\n",
              "    <tr>\n",
              "      <th>2019-12-31</th>\n",
              "      <td>0.016394</td>\n",
              "      <td>0.641887</td>\n",
              "    </tr>\n",
              "  </tbody>\n",
              "</table>\n",
              "</div>"
            ],
            "text/plain": [
              "              return  negative tone\n",
              "Date                               \n",
              "2019-12-27  0.022579       0.423103\n",
              "2019-12-28  0.047758       0.514126\n",
              "2019-12-29  0.066744       0.590575\n",
              "2019-12-30  0.023061       0.626672\n",
              "2019-12-31  0.016394       0.641887"
            ]
          },
          "metadata": {
            "tags": []
          },
          "execution_count": 16
        }
      ]
    },
    {
      "cell_type": "code",
      "metadata": {
        "colab": {
          "base_uri": "https://localhost:8080/"
        },
        "id": "LSVYaKuiAXud",
        "outputId": "d26fd332-b011-486a-ccb6-0e249b515444"
      },
      "source": [
        "from statsmodels.tsa.stattools import acf\r\n",
        "def forecast_accuracy(forecast, actual):\r\n",
        "    mape = np.mean(np.abs(forecast - actual)/np.abs(actual))  # MAPE\r\n",
        "    me = np.mean(forecast - actual)             # ME\r\n",
        "    mae = np.mean(np.abs(forecast - actual))    # MAE\r\n",
        "    mpe = np.mean((forecast - actual)/actual)   # MPE\r\n",
        "    rmse = np.mean((forecast - actual)**2)**.5  # RMSE\r\n",
        "    corr = np.corrcoef(forecast, actual)[0,1]   # corr\r\n",
        "    \r\n",
        "    return({'mape':mape, 'me':me, 'mae': mae, \r\n",
        "            'mpe': mpe, 'rmse':rmse, 'corr':corr})\r\n",
        "\r\n",
        "print('Forecast Accuracy of: return')\r\n",
        "accuracy_prod = forecast_accuracy(df_forecast['return'].values, df_test['return'])\r\n",
        "for k, v in accuracy_prod.items():\r\n",
        "    print(k, ': ', round(v,4))\r\n",
        "\r\n",
        "print('\\nForecast Accuracy of: negative tone')\r\n",
        "accuracy_prod = forecast_accuracy(df_forecast['negative tone'].values, df_test['negative tone'])\r\n",
        "for k, v in accuracy_prod.items():\r\n",
        "    print(k, ': ', round(v,4))\r\n",
        "\r\n"
      ],
      "execution_count": null,
      "outputs": [
        {
          "output_type": "stream",
          "text": [
            "Forecast Accuracy of: return\n",
            "mape :  inf\n",
            "me :  0.0093\n",
            "mae :  0.5763\n",
            "mpe :  inf\n",
            "rmse :  0.871\n",
            "corr :  -0.0276\n",
            "\n",
            "Forecast Accuracy of: negative tone\n",
            "mape :  inf\n",
            "me :  0.5593\n",
            "mae :  0.5593\n",
            "mpe :  inf\n",
            "rmse :  0.5651\n",
            "corr :  nan\n"
          ],
          "name": "stdout"
        },
        {
          "output_type": "stream",
          "text": [
            "/usr/local/lib/python3.6/dist-packages/numpy/lib/function_base.py:2559: RuntimeWarning: invalid value encountered in true_divide\n",
            "  c /= stddev[:, None]\n",
            "/usr/local/lib/python3.6/dist-packages/numpy/lib/function_base.py:2560: RuntimeWarning: invalid value encountered in true_divide\n",
            "  c /= stddev[None, :]\n"
          ],
          "name": "stderr"
        }
      ]
    },
    {
      "cell_type": "code",
      "metadata": {
        "id": "XZoCwfq-FOmZ"
      },
      "source": [
        ""
      ],
      "execution_count": null,
      "outputs": []
    }
  ]
}