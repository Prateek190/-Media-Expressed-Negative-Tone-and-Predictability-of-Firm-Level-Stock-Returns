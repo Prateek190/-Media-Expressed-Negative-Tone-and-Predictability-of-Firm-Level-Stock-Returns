{
  "nbformat": 4,
  "nbformat_minor": 0,
  "metadata": {
    "colab": {
      "name": "VAR_SBI",
      "provenance": [],
      "collapsed_sections": []
    },
    "kernelspec": {
      "name": "python3",
      "display_name": "Python 3"
    }
  },
  "cells": [
    {
      "cell_type": "code",
      "metadata": {
        "id": "aTt-bLhWqiVF",
        "colab": {
          "base_uri": "https://localhost:8080/"
        },
        "outputId": "2dfcad13-2d38-4c46-8052-4c971d9dd180"
      },
      "source": [
        "import pandas as pd\n",
        "import numpy as np\n",
        "import os\n",
        "import matplotlib.pyplot as plt\n",
        "%matplotlib inline\n",
        "from statsmodels.tsa.api import VAR\n",
        "from statsmodels.tsa.stattools import adfuller\n",
        "from statsmodels.tools.eval_measures import rmse,aic"
      ],
      "execution_count": null,
      "outputs": [
        {
          "output_type": "stream",
          "text": [
            "/usr/local/lib/python3.6/dist-packages/statsmodels/tools/_testing.py:19: FutureWarning: pandas.util.testing is deprecated. Use the functions in the public API at pandas.testing instead.\n",
            "  import pandas.util.testing as tm\n"
          ],
          "name": "stderr"
        }
      ]
    },
    {
      "cell_type": "code",
      "metadata": {
        "id": "okTUchVHJM1n",
        "colab": {
          "base_uri": "https://localhost:8080/"
        },
        "outputId": "fd487589-7833-427a-ef81-4c23b2521db5"
      },
      "source": [
        "from google.colab import drive\n",
        "drive.mount('/content/drive')"
      ],
      "execution_count": null,
      "outputs": [
        {
          "output_type": "stream",
          "text": [
            "Mounted at /content/drive\n"
          ],
          "name": "stdout"
        }
      ]
    },
    {
      "cell_type": "code",
      "metadata": {
        "id": "a5PP2bF1rhX1",
        "colab": {
          "base_uri": "https://localhost:8080/",
          "height": 450
        },
        "outputId": "6bd08abf-1af8-484e-fa83-68f83d80abea"
      },
      "source": [
        "r=pd.read_csv(\"/content/drive/My Drive/stock/final_SBIN.NS.csv\")\n",
        "nt=pd.read_csv(\"/content/drive/My Drive/tone/pct730/pct730_State Bank.csv\")\n",
        "df=pd.DataFrame()\n",
        "df['return']=r['return']\n",
        "df['negative tone']=nt['PCT']\n",
        "df['Date']=r['Date']\n",
        "df.set_index('Date',inplace=True)\n",
        "df[~df.isin([np.nan, np.inf, -np.inf]).any(1)]\n",
        "df.replace([np.inf, -np.inf], np.nan)\n",
        "\n",
        "df.dropna(inplace=True)\n",
        "df\n",
        "\n"
      ],
      "execution_count": null,
      "outputs": [
        {
          "output_type": "execute_result",
          "data": {
            "text/html": [
              "<div>\n",
              "<style scoped>\n",
              "    .dataframe tbody tr th:only-of-type {\n",
              "        vertical-align: middle;\n",
              "    }\n",
              "\n",
              "    .dataframe tbody tr th {\n",
              "        vertical-align: top;\n",
              "    }\n",
              "\n",
              "    .dataframe thead th {\n",
              "        text-align: right;\n",
              "    }\n",
              "</style>\n",
              "<table border=\"1\" class=\"dataframe\">\n",
              "  <thead>\n",
              "    <tr style=\"text-align: right;\">\n",
              "      <th></th>\n",
              "      <th>return</th>\n",
              "      <th>negative tone</th>\n",
              "    </tr>\n",
              "    <tr>\n",
              "      <th>Date</th>\n",
              "      <th></th>\n",
              "      <th></th>\n",
              "    </tr>\n",
              "  </thead>\n",
              "  <tbody>\n",
              "    <tr>\n",
              "      <th>2018-01-01</th>\n",
              "      <td>0.00</td>\n",
              "      <td>1.44</td>\n",
              "    </tr>\n",
              "    <tr>\n",
              "      <th>2018-01-02</th>\n",
              "      <td>-1.25</td>\n",
              "      <td>1.74</td>\n",
              "    </tr>\n",
              "    <tr>\n",
              "      <th>2018-01-03</th>\n",
              "      <td>-0.13</td>\n",
              "      <td>1.54</td>\n",
              "    </tr>\n",
              "    <tr>\n",
              "      <th>2018-01-04</th>\n",
              "      <td>1.87</td>\n",
              "      <td>1.77</td>\n",
              "    </tr>\n",
              "    <tr>\n",
              "      <th>2018-01-05</th>\n",
              "      <td>-0.70</td>\n",
              "      <td>0.88</td>\n",
              "    </tr>\n",
              "    <tr>\n",
              "      <th>...</th>\n",
              "      <td>...</td>\n",
              "      <td>...</td>\n",
              "    </tr>\n",
              "    <tr>\n",
              "      <th>2019-12-27</th>\n",
              "      <td>0.32</td>\n",
              "      <td>0.26</td>\n",
              "    </tr>\n",
              "    <tr>\n",
              "      <th>2019-12-28</th>\n",
              "      <td>0.00</td>\n",
              "      <td>0.89</td>\n",
              "    </tr>\n",
              "    <tr>\n",
              "      <th>2019-12-29</th>\n",
              "      <td>0.00</td>\n",
              "      <td>0.88</td>\n",
              "    </tr>\n",
              "    <tr>\n",
              "      <th>2019-12-30</th>\n",
              "      <td>-1.79</td>\n",
              "      <td>1.33</td>\n",
              "    </tr>\n",
              "    <tr>\n",
              "      <th>2019-12-31</th>\n",
              "      <td>0.00</td>\n",
              "      <td>0.88</td>\n",
              "    </tr>\n",
              "  </tbody>\n",
              "</table>\n",
              "<p>728 rows × 2 columns</p>\n",
              "</div>"
            ],
            "text/plain": [
              "            return  negative tone\n",
              "Date                             \n",
              "2018-01-01    0.00           1.44\n",
              "2018-01-02   -1.25           1.74\n",
              "2018-01-03   -0.13           1.54\n",
              "2018-01-04    1.87           1.77\n",
              "2018-01-05   -0.70           0.88\n",
              "...            ...            ...\n",
              "2019-12-27    0.32           0.26\n",
              "2019-12-28    0.00           0.89\n",
              "2019-12-29    0.00           0.88\n",
              "2019-12-30   -1.79           1.33\n",
              "2019-12-31    0.00           0.88\n",
              "\n",
              "[728 rows x 2 columns]"
            ]
          },
          "metadata": {
            "tags": []
          },
          "execution_count": 3
        }
      ]
    },
    {
      "cell_type": "code",
      "metadata": {
        "id": "oalP4NKkAMMu",
        "colab": {
          "base_uri": "https://localhost:8080/",
          "height": 724
        },
        "outputId": "17108ccc-c218-46d4-ecf5-8efdb97eb596"
      },
      "source": [
        "fig, axes = plt.subplots(nrows=1, ncols=2, dpi=120, figsize=(10,6))\n",
        "for i, ax in enumerate(axes.flatten()):\n",
        "    data = df[df.columns[i]]\n",
        "    ax.plot(data, color='red', linewidth=1)\n",
        "    # Decorations\n",
        "    ax.set_title(df.columns[i])\n",
        "    ax.xaxis.set_ticks_position('none')\n",
        "    ax.yaxis.set_ticks_position('none')\n",
        "    ax.spines[\"top\"].set_alpha(0)\n",
        "    ax.tick_params(labelsize=6)\n",
        "\n",
        "plt.tight_layout();"
      ],
      "execution_count": null,
      "outputs": [
        {
          "output_type": "display_data",
          "data": {
            "image/png": "[encoded data removed]",
            "text/plain": [
              "<Figure size 1200x720 with 2 Axes>"
            ]
          },
          "metadata": {
            "tags": [],
            "needs_background": "light"
          }
        }
      ]
    },
    {
      "cell_type": "code",
      "metadata": {
        "id": "bJXLim6uAW7_",
        "colab": {
          "base_uri": "https://localhost:8080/",
          "height": 111
        },
        "outputId": "432ee4e1-5c41-4a4d-d103-b09294221d68"
      },
      "source": [
        "from statsmodels.tsa.stattools import grangercausalitytests\n",
        "maxlag=12\n",
        "test = 'ssr_chi2test'\n",
        "def grangers_causation_matrix(data, variables, test='ssr_chi2test', verbose=False):    \n",
        "    \"\"\"Check Granger Causality of all possible combinations of the Time series.\n",
        "    The rows are the response variable, columns are predictors. The values in the table \n",
        "    are the P-Values. P-Values lesser than the significance level (0.05), implies \n",
        "    the Null Hypothesis that the coefficients of the corresponding past values is \n",
        "    zero, that is, the X does not cause Y can be rejected.\n",
        "\n",
        "    data      : pandas dataframe containing the time series variables\n",
        "    variables : list containing names of the time series variables.\n",
        "    \"\"\"\n",
        "    df = pd.DataFrame(np.zeros((len(variables), len(variables))), columns=variables, index=variables)\n",
        "    for c in df.columns:\n",
        "        for r in df.index:\n",
        "            test_result = grangercausalitytests(data[[r, c]], maxlag=maxlag, verbose=False)\n",
        "            p_values = [round(test_result[i+1][0][test][1],4) for i in range(maxlag)]\n",
        "            if verbose: print(f'Y = {r}, X = {c}, P Values = {p_values}')\n",
        "            min_p_value = np.min(p_values)\n",
        "            df.loc[r, c] = min_p_value\n",
        "    df.columns = [var + '_x' for var in variables]\n",
        "    df.index = [var + '_y' for var in variables]\n",
        "    return df\n",
        "\n",
        "grangers_causation_matrix(df, variables = df.columns) "
      ],
      "execution_count": null,
      "outputs": [
        {
          "output_type": "execute_result",
          "data": {
            "text/html": [
              "<div>\n",
              "<style scoped>\n",
              "    .dataframe tbody tr th:only-of-type {\n",
              "        vertical-align: middle;\n",
              "    }\n",
              "\n",
              "    .dataframe tbody tr th {\n",
              "        vertical-align: top;\n",
              "    }\n",
              "\n",
              "    .dataframe thead th {\n",
              "        text-align: right;\n",
              "    }\n",
              "</style>\n",
              "<table border=\"1\" class=\"dataframe\">\n",
              "  <thead>\n",
              "    <tr style=\"text-align: right;\">\n",
              "      <th></th>\n",
              "      <th>return_x</th>\n",
              "      <th>negative tone_x</th>\n",
              "    </tr>\n",
              "  </thead>\n",
              "  <tbody>\n",
              "    <tr>\n",
              "      <th>return_y</th>\n",
              "      <td>1.0000</td>\n",
              "      <td>0.0036</td>\n",
              "    </tr>\n",
              "    <tr>\n",
              "      <th>negative tone_y</th>\n",
              "      <td>0.0288</td>\n",
              "      <td>1.0000</td>\n",
              "    </tr>\n",
              "  </tbody>\n",
              "</table>\n",
              "</div>"
            ],
            "text/plain": [
              "                 return_x  negative tone_x\n",
              "return_y           1.0000           0.0036\n",
              "negative tone_y    0.0288           1.0000"
            ]
          },
          "metadata": {
            "tags": []
          },
          "execution_count": 5
        }
      ]
    },
    {
      "cell_type": "code",
      "metadata": {
        "id": "sw-oAStCMAgj"
      },
      "source": [
        "# Results from Granger Casuality test can be read as : negative tone causes return (10% significance) but return do not causes negative tone.\n"
      ],
      "execution_count": null,
      "outputs": []
    },
    {
      "cell_type": "code",
      "metadata": {
        "id": "4o50qsaedyyu",
        "colab": {
          "base_uri": "https://localhost:8080/"
        },
        "outputId": "88045aea-9b6e-48f6-f6e4-5fdea83cda49"
      },
      "source": [
        "t = 5\n",
        "df_train, df_test = df[0:-t], df[-t:]\n",
        "\n",
        "# Check size\n",
        "print(df_train.shape)  # (655, 2)\n",
        "print(df_test.shape)  # (73, 2)\n"
      ],
      "execution_count": null,
      "outputs": [
        {
          "output_type": "stream",
          "text": [
            "(723, 2)\n",
            "(5, 2)\n"
          ],
          "name": "stdout"
        }
      ]
    },
    {
      "cell_type": "code",
      "metadata": {
        "id": "nIl2Hdo0hBuI"
      },
      "source": [
        "def adfuller_test(series, signif=0.05, name='', verbose=False):\n",
        "    \"\"\"Perform ADFuller to test for Stationarity of given series and print report\"\"\"\n",
        "    r = adfuller(series, autolag='AIC')\n",
        "    output = {'test_statistic':round(r[0], 4), 'pvalue':round(r[1], 4), 'n_lags':round(r[2], 4), 'n_obs':r[3]}\n",
        "    p_value = output['pvalue'] \n",
        "    def adjust(val, length= 6): return str(val).ljust(length)\n",
        "\n",
        "    # Print Summary\n",
        "    print(f'    Augmented Dickey-Fuller Test on \"{name}\"', \"\\n   \", '-'*47)\n",
        "    print(f' Null Hypothesis: Data has unit root. Non-Stationary.')\n",
        "    print(f' Significance Level    = {signif}')\n",
        "    print(f' Test Statistic        = {output[\"test_statistic\"]}')\n",
        "    print(f' No. Lags Chosen       = {output[\"n_lags\"]}')\n",
        "\n",
        "    for key,val in r[4].items():\n",
        "        print(f' Critical value {adjust(key)} = {round(val, 3)}')\n",
        "\n",
        "    if p_value <= signif:\n",
        "        print(f\" => P-Value = {p_value}. Rejecting Null Hypothesis.\")\n",
        "        print(f\" => Series is Stationary.\")\n",
        "    else:\n",
        "        print(f\" => P-Value = {p_value}. Weak evidence to reject the Null Hypothesis.\")\n",
        "        print(f\" => Series is Non-Stationary.\") "
      ],
      "execution_count": null,
      "outputs": []
    },
    {
      "cell_type": "code",
      "metadata": {
        "id": "k1WENsT3wLnE",
        "colab": {
          "base_uri": "https://localhost:8080/"
        },
        "outputId": "ac12bdc5-9fe8-4737-e98b-d005f4bf4f17"
      },
      "source": [
        "# ADF Test on each column\n",
        "for name, column in df_train.iteritems():\n",
        "    adfuller_test(column, name=column.name)\n",
        "    print('\\n')"
      ],
      "execution_count": null,
      "outputs": [
        {
          "output_type": "stream",
          "text": [
            "    Augmented Dickey-Fuller Test on \"return\" \n",
            "    -----------------------------------------------\n",
            " Null Hypothesis: Data has unit root. Non-Stationary.\n",
            " Significance Level    = 0.05\n",
            " Test Statistic        = -17.7473\n",
            " No. Lags Chosen       = 1\n",
            " Critical value 1%     = -3.439\n",
            " Critical value 5%     = -2.866\n",
            " Critical value 10%    = -2.569\n",
            " => P-Value = 0.0. Rejecting Null Hypothesis.\n",
            " => Series is Stationary.\n",
            "\n",
            "\n",
            "    Augmented Dickey-Fuller Test on \"negative tone\" \n",
            "    -----------------------------------------------\n",
            " Null Hypothesis: Data has unit root. Non-Stationary.\n",
            " Significance Level    = 0.05\n",
            " Test Statistic        = -10.3496\n",
            " No. Lags Chosen       = 3\n",
            " Critical value 1%     = -3.439\n",
            " Critical value 5%     = -2.866\n",
            " Critical value 10%    = -2.569\n",
            " => P-Value = 0.0. Rejecting Null Hypothesis.\n",
            " => Series is Stationary.\n",
            "\n",
            "\n"
          ],
          "name": "stdout"
        }
      ]
    },
    {
      "cell_type": "code",
      "metadata": {
        "id": "g75LrN35wPvT",
        "colab": {
          "base_uri": "https://localhost:8080/"
        },
        "outputId": "fa47bc8a-df7e-4d83-9d7d-b7c71e806cf7"
      },
      "source": [
        "model = VAR(df_train)\r\n",
        "for i in [1,2,3,4,5,6,7,8,9,10,11,12]:\r\n",
        "    result = model.fit(i)\r\n",
        "    print('Lag Order =', i)\r\n",
        "    print('AIC : ', result.aic)\r\n",
        "    print('BIC : ', result.bic)\r\n",
        "    print('FPE : ', result.fpe)\r\n",
        "    print('HQIC: ', result.hqic, '\\n')\r\n",
        "print(df_train[-t:])   "
      ],
      "execution_count": null,
      "outputs": [
        {
          "output_type": "stream",
          "text": [
            "Lag Order = 1\n",
            "AIC :  0.467408945251734\n",
            "BIC :  0.5054867164890705\n",
            "FPE :  1.5958540395094956\n",
            "HQIC:  0.4821071580470812 \n",
            "\n",
            "Lag Order = 2\n",
            "AIC :  0.4453775319860821\n",
            "BIC :  0.5089092814629885\n",
            "FPE :  1.561080136211776\n",
            "HQIC:  0.46990268799013396 \n",
            "\n",
            "Lag Order = 3\n",
            "AIC :  0.44319650756533535\n",
            "BIC :  0.5322375033544207\n",
            "FPE :  1.5576803085603395\n",
            "HQIC:  0.4775712108379163 \n",
            "\n",
            "Lag Order = 4\n",
            "AIC :  0.44119539064223057\n",
            "BIC :  0.5558010991804487\n",
            "FPE :  1.554568485657409\n",
            "HQIC:  0.48544232826642963 \n",
            "\n",
            "Lag Order = 5\n",
            "AIC :  0.4386174583392019\n",
            "BIC :  0.5788435454131029\n",
            "FPE :  1.5505694545869013\n",
            "HQIC:  0.49275940083831005 \n",
            "\n",
            "Lag Order = 6\n",
            "AIC :  0.45061184783457287\n",
            "BIC :  0.6165141795717977\n",
            "FPE :  1.5692845212675566\n",
            "HQIC:  0.5146716495916741 \n",
            "\n",
            "Lag Order = 7\n",
            "AIC :  0.4563322080765175\n",
            "BIC :  0.6479668519435836\n",
            "FPE :  1.5782939273486996\n",
            "HQIC:  0.5303328077567545 \n",
            "\n",
            "Lag Order = 8\n",
            "AIC :  0.4625276843952207\n",
            "BIC :  0.679950910201649\n",
            "FPE :  1.5881115591132606\n",
            "HQIC:  0.5464921053707561 \n",
            "\n",
            "Lag Order = 9\n",
            "AIC :  0.46670993876498473\n",
            "BIC :  0.7099782196738141\n",
            "FPE :  1.5947788496679403\n",
            "HQIC:  0.5606612895426777 \n",
            "\n",
            "Lag Order = 10\n",
            "AIC :  0.4734555688539065\n",
            "BIC :  0.7426255823986476\n",
            "FPE :  1.6055873714220723\n",
            "HQIC:  0.5774170435057272 \n",
            "\n",
            "Lag Order = 11\n",
            "AIC :  0.4859107777234263\n",
            "BIC :  0.7810394068315034\n",
            "FPE :  1.625728057739442\n",
            "HQIC:  0.5999056563196281 \n",
            "\n",
            "Lag Order = 12\n",
            "AIC :  0.49114284551319576\n",
            "BIC :  0.8122871795359272\n",
            "FPE :  1.6342775666282414\n",
            "HQIC:  0.6151944945582674 \n",
            "\n",
            "            return  negative tone\n",
            "Date                             \n",
            "2019-12-22    0.00           0.79\n",
            "2019-12-23    2.89           1.15\n",
            "2019-12-24    3.32           1.09\n",
            "2019-12-25    0.00           1.40\n",
            "2019-12-26   -0.21           1.24\n"
          ],
          "name": "stdout"
        },
        {
          "output_type": "stream",
          "text": [
            "/usr/local/lib/python3.6/dist-packages/statsmodels/tsa/base/tsa_model.py:219: ValueWarning: A date index has been provided, but it has no associated frequency information and so will be ignored when e.g. forecasting.\n",
            "  ' ignored when e.g. forecasting.', ValueWarning)\n"
          ],
          "name": "stderr"
        }
      ]
    },
    {
      "cell_type": "code",
      "metadata": {
        "id": "O9yZVJin1LTq",
        "colab": {
          "base_uri": "https://localhost:8080/",
          "height": 347
        },
        "outputId": "1c8f176e-2d4d-4d2e-e63e-401641432956"
      },
      "source": [
        "x = model.select_order(maxlags=12)\r\n",
        "x.summary()"
      ],
      "execution_count": null,
      "outputs": [
        {
          "output_type": "execute_result",
          "data": {
            "text/html": [
              "<table class=\"simpletable\">\n",
              "<caption>VAR Order Selection (* highlights the minimums)</caption>\n",
              "<tr>\n",
              "   <td></td>      <th>AIC</th>         <th>BIC</th>         <th>FPE</th>        <th>HQIC</th>    \n",
              "</tr>\n",
              "<tr>\n",
              "  <th>0</th>  <td>    0.5031</td>  <td>    0.5160*</td> <td>     1.654</td>  <td>    0.5081</td> \n",
              "</tr>\n",
              "<tr>\n",
              "  <th>1</th>  <td>    0.4893</td>  <td>    0.5279</td>  <td>     1.631</td>  <td>    0.5042</td> \n",
              "</tr>\n",
              "<tr>\n",
              "  <th>2</th>  <td>    0.4655</td>  <td>    0.5297</td>  <td>     1.593</td>  <td>    0.4903*</td>\n",
              "</tr>\n",
              "<tr>\n",
              "  <th>3</th>  <td>    0.4603</td>  <td>    0.5502</td>  <td>     1.585</td>  <td>    0.4950</td> \n",
              "</tr>\n",
              "<tr>\n",
              "  <th>4</th>  <td>    0.4575</td>  <td>    0.5731</td>  <td>     1.580</td>  <td>    0.5022</td> \n",
              "</tr>\n",
              "<tr>\n",
              "  <th>5</th>  <td>    0.4539*</td> <td>    0.5952</td>  <td>     1.575*</td> <td>    0.5085</td> \n",
              "</tr>\n",
              "<tr>\n",
              "  <th>6</th>  <td>    0.4633</td>  <td>    0.6303</td>  <td>     1.589</td>  <td>    0.5279</td> \n",
              "</tr>\n",
              "<tr>\n",
              "  <th>7</th>  <td>    0.4668</td>  <td>    0.6595</td>  <td>     1.595</td>  <td>    0.5412</td> \n",
              "</tr>\n",
              "<tr>\n",
              "  <th>8</th>  <td>    0.4705</td>  <td>    0.6889</td>  <td>     1.601</td>  <td>    0.5549</td> \n",
              "</tr>\n",
              "<tr>\n",
              "  <th>9</th>  <td>    0.4717</td>  <td>    0.7158</td>  <td>     1.603</td>  <td>    0.5660</td> \n",
              "</tr>\n",
              "<tr>\n",
              "  <th>10</th> <td>    0.4792</td>  <td>    0.7489</td>  <td>     1.615</td>  <td>    0.5834</td> \n",
              "</tr>\n",
              "<tr>\n",
              "  <th>11</th> <td>    0.4889</td>  <td>    0.7843</td>  <td>     1.631</td>  <td>    0.6030</td> \n",
              "</tr>\n",
              "<tr>\n",
              "  <th>12</th> <td>    0.4911</td>  <td>    0.8123</td>  <td>     1.634</td>  <td>    0.6152</td> \n",
              "</tr>\n",
              "</table>"
            ],
            "text/plain": [
              "<class 'statsmodels.iolib.table.SimpleTable'>"
            ]
          },
          "metadata": {
            "tags": []
          },
          "execution_count": 12
        }
      ]
    },
    {
      "cell_type": "code",
      "metadata": {
        "id": "5SN_79o61nUA",
        "colab": {
          "base_uri": "https://localhost:8080/"
        },
        "outputId": "5c1d715f-4212-4920-bc6e-18119860a61f"
      },
      "source": [
        "model_fitted = model.fit(5)\r\n",
        "model_fitted.summary()"
      ],
      "execution_count": null,
      "outputs": [
        {
          "output_type": "execute_result",
          "data": {
            "text/plain": [
              "  Summary of Regression Results   \n",
              "==================================\n",
              "Model:                         VAR\n",
              "Method:                        OLS\n",
              "Date:           Mon, 04, Jan, 2021\n",
              "Time:                     13:37:15\n",
              "--------------------------------------------------------------------\n",
              "No. of Equations:         2.00000    BIC:                   0.578844\n",
              "Nobs:                     718.000    HQIC:                  0.492759\n",
              "Log likelihood:          -2173.06    FPE:                    1.55057\n",
              "AIC:                     0.438617    Det(Omega_mle):         1.50413\n",
              "--------------------------------------------------------------------\n",
              "Results for equation return\n",
              "===================================================================================\n",
              "                      coefficient       std. error           t-stat            prob\n",
              "-----------------------------------------------------------------------------------\n",
              "const                    0.330048         0.262734            1.256           0.209\n",
              "L1.return               -0.025951         0.037499           -0.692           0.489\n",
              "L1.negative tone         0.043560         0.088048            0.495           0.621\n",
              "L2.return                0.085070         0.037332            2.279           0.023\n",
              "L2.negative tone         0.012623         0.088343            0.143           0.886\n",
              "L3.return                0.002761         0.037511            0.074           0.941\n",
              "L3.negative tone        -0.234648         0.089015           -2.636           0.008\n",
              "L4.return               -0.037325         0.037410           -0.998           0.318\n",
              "L4.negative tone         0.205935         0.088707            2.322           0.020\n",
              "L5.return               -0.021387         0.037423           -0.571           0.568\n",
              "L5.negative tone        -0.209805         0.088598           -2.368           0.018\n",
              "===================================================================================\n",
              "\n",
              "Results for equation negative tone\n",
              "===================================================================================\n",
              "                      coefficient       std. error           t-stat            prob\n",
              "-----------------------------------------------------------------------------------\n",
              "const                    1.042482         0.111911            9.315           0.000\n",
              "L1.return                0.004661         0.015972            0.292           0.770\n",
              "L1.negative tone         0.117071         0.037504            3.122           0.002\n",
              "L2.return                0.026978         0.015902            1.697           0.090\n",
              "L2.negative tone         0.139022         0.037629            3.695           0.000\n",
              "L3.return               -0.016977         0.015978           -1.063           0.288\n",
              "L3.negative tone         0.056075         0.037916            1.479           0.139\n",
              "L4.return               -0.014596         0.015935           -0.916           0.360\n",
              "L4.negative tone         0.065806         0.037784            1.742           0.082\n",
              "L5.return                0.034193         0.015940            2.145           0.032\n",
              "L5.negative tone        -0.003272         0.037738           -0.087           0.931\n",
              "===================================================================================\n",
              "\n",
              "Correlation matrix of residuals\n",
              "                   return  negative tone\n",
              "return           1.000000      -0.048404\n",
              "negative tone   -0.048404       1.000000\n",
              "\n"
            ]
          },
          "metadata": {
            "tags": []
          },
          "execution_count": 19
        }
      ]
    },
    {
      "cell_type": "code",
      "metadata": {
        "id": "oQt4xV7U22hI",
        "colab": {
          "base_uri": "https://localhost:8080/"
        },
        "outputId": "86e0e94c-9e3b-495e-f34a-2598ea3833a2"
      },
      "source": [
        "from statsmodels.stats.stattools import durbin_watson\r\n",
        "out = durbin_watson(model_fitted.resid)\r\n",
        "\r\n",
        "for col, val in zip(df.columns, out):\r\n",
        "    print(col, ':', round(val, 2))"
      ],
      "execution_count": null,
      "outputs": [
        {
          "output_type": "stream",
          "text": [
            "return : 2.0\n",
            "negative tone : 2.0\n"
          ],
          "name": "stdout"
        }
      ]
    },
    {
      "cell_type": "code",
      "metadata": {
        "id": "vhMlrqfmlKyt",
        "colab": {
          "base_uri": "https://localhost:8080/"
        },
        "outputId": "a23fe4fe-b8d8-412c-daee-8786ca04670b"
      },
      "source": [
        "# Get the lag order\r\n",
        "lag_order = model_fitted.k_ar\r\n",
        "print(lag_order)  #1\r\n",
        "\r\n",
        "# Input data for forecasting\r\n",
        "forecast_input = df_train.values[-lag_order:]\r\n",
        "forecast_input"
      ],
      "execution_count": null,
      "outputs": [
        {
          "output_type": "stream",
          "text": [
            "5\n"
          ],
          "name": "stdout"
        },
        {
          "output_type": "execute_result",
          "data": {
            "text/plain": [
              "array([[ 0.  ,  0.79],\n",
              "       [ 2.89,  1.15],\n",
              "       [ 3.32,  1.09],\n",
              "       [ 0.  ,  1.4 ],\n",
              "       [-0.21,  1.24]])"
            ]
          },
          "metadata": {
            "tags": []
          },
          "execution_count": 21
        }
      ]
    },
    {
      "cell_type": "code",
      "metadata": {
        "id": "wr3s2ZcAcsJs",
        "colab": {
          "base_uri": "https://localhost:8080/",
          "height": 235
        },
        "outputId": "293ac513-bf7c-40df-d56c-4333d0e8eada"
      },
      "source": [
        "# Forecast\r\n",
        "fc = model_fitted.forecast(y=forecast_input, steps=t)\r\n",
        "\r\n",
        "df_forecast = pd.DataFrame(fc, index=df.index[-t:], columns=df.columns)\r\n",
        "df_forecast"
      ],
      "execution_count": null,
      "outputs": [
        {
          "output_type": "execute_result",
          "data": {
            "text/html": [
              "<div>\n",
              "<style scoped>\n",
              "    .dataframe tbody tr th:only-of-type {\n",
              "        vertical-align: middle;\n",
              "    }\n",
              "\n",
              "    .dataframe tbody tr th {\n",
              "        vertical-align: top;\n",
              "    }\n",
              "\n",
              "    .dataframe thead th {\n",
              "        text-align: right;\n",
              "    }\n",
              "</style>\n",
              "<table border=\"1\" class=\"dataframe\">\n",
              "  <thead>\n",
              "    <tr style=\"text-align: right;\">\n",
              "      <th></th>\n",
              "      <th>return</th>\n",
              "      <th>negative tone</th>\n",
              "    </tr>\n",
              "    <tr>\n",
              "      <th>Date</th>\n",
              "      <th></th>\n",
              "      <th></th>\n",
              "    </tr>\n",
              "  </thead>\n",
              "  <tbody>\n",
              "    <tr>\n",
              "      <th>2019-12-27</th>\n",
              "      <td>0.123795</td>\n",
              "      <td>1.416969</td>\n",
              "    </tr>\n",
              "    <tr>\n",
              "      <th>2019-12-28</th>\n",
              "      <td>-0.144695</td>\n",
              "      <td>1.572495</td>\n",
              "    </tr>\n",
              "    <tr>\n",
              "      <th>2019-12-29</th>\n",
              "      <td>0.127792</td>\n",
              "      <td>1.701412</td>\n",
              "    </tr>\n",
              "    <tr>\n",
              "      <th>2019-12-30</th>\n",
              "      <td>0.045708</td>\n",
              "      <td>1.614412</td>\n",
              "    </tr>\n",
              "    <tr>\n",
              "      <th>2019-12-31</th>\n",
              "      <td>0.093666</td>\n",
              "      <td>1.642513</td>\n",
              "    </tr>\n",
              "  </tbody>\n",
              "</table>\n",
              "</div>"
            ],
            "text/plain": [
              "              return  negative tone\n",
              "Date                               \n",
              "2019-12-27  0.123795       1.416969\n",
              "2019-12-28 -0.144695       1.572495\n",
              "2019-12-29  0.127792       1.701412\n",
              "2019-12-30  0.045708       1.614412\n",
              "2019-12-31  0.093666       1.642513"
            ]
          },
          "metadata": {
            "tags": []
          },
          "execution_count": 22
        }
      ]
    },
    {
      "cell_type": "code",
      "metadata": {
        "id": "LSVYaKuiAXud",
        "colab": {
          "base_uri": "https://localhost:8080/"
        },
        "outputId": "5d74b704-dccc-4cea-d9dd-cf4b0eafbf08"
      },
      "source": [
        "from statsmodels.tsa.stattools import acf\r\n",
        "def forecast_accuracy(forecast, actual):\r\n",
        "    mape = np.mean(np.abs(forecast - actual)/np.abs(actual))  # MAPE\r\n",
        "    me = np.mean(forecast - actual)             # ME\r\n",
        "    mae = np.mean(np.abs(forecast - actual))    # MAE\r\n",
        "    mpe = np.mean((forecast - actual)/actual)   # MPE\r\n",
        "    rmse = np.mean((forecast - actual)**2)**.5  # RMSE\r\n",
        "    corr = np.corrcoef(forecast, actual)[0,1]   # corr\r\n",
        "    \r\n",
        "    return({'mape':mape, 'me':me, 'mae': mae, \r\n",
        "            'mpe': mpe, 'rmse':rmse, 'corr':corr})\r\n",
        "\r\n",
        "print('Forecast Accuracy of: return')\r\n",
        "accuracy_prod = forecast_accuracy(df_forecast['return'].values, df_test['return'])\r\n",
        "for k, v in accuracy_prod.items():\r\n",
        "    print(k, ': ', round(v,4))\r\n",
        "\r\n",
        "print('\\nForecast Accuracy of: negative tone')\r\n",
        "accuracy_prod = forecast_accuracy(df_forecast['negative tone'].values, df_test['negative tone'])\r\n",
        "for k, v in accuracy_prod.items():\r\n",
        "    print(k, ': ', round(v,4))\r\n",
        "\r\n"
      ],
      "execution_count": null,
      "outputs": [
        {
          "output_type": "stream",
          "text": [
            "Forecast Accuracy of: return\n",
            "mape :  inf\n",
            "me :  0.3433\n",
            "mae :  0.4796\n",
            "mpe :  nan\n",
            "rmse :  0.8312\n",
            "corr :  0.0786\n",
            "\n",
            "Forecast Accuracy of: negative tone\n",
            "mape :  1.4461\n",
            "me :  0.7416\n",
            "mae :  0.7416\n",
            "mpe :  1.4461\n",
            "rmse :  0.7926\n",
            "corr :  0.7213\n"
          ],
          "name": "stdout"
        }
      ]
    },
    {
      "cell_type": "code",
      "metadata": {
        "id": "XZoCwfq-FOmZ"
      },
      "source": [
        ""
      ],
      "execution_count": null,
      "outputs": []
    }
  ]
}