{
  "nbformat": 4,
  "nbformat_minor": 0,
  "metadata": {
    "colab": {
      "name": "VAR_Sun Pharma",
      "provenance": [],
      "collapsed_sections": []
    },
    "kernelspec": {
      "name": "python3",
      "display_name": "Python 3"
    }
  },
  "cells": [
    {
      "cell_type": "code",
      "metadata": {
        "id": "aTt-bLhWqiVF",
        "colab": {
          "base_uri": "https://localhost:8080/"
        },
        "outputId": "7d77607e-1acc-4bdb-c631-8ccaf278128d"
      },
      "source": [
        "import pandas as pd\n",
        "import numpy as np\n",
        "import os\n",
        "import matplotlib.pyplot as plt\n",
        "%matplotlib inline\n",
        "from statsmodels.tsa.api import VAR\n",
        "from statsmodels.tsa.stattools import adfuller\n",
        "from statsmodels.tools.eval_measures import rmse,aic"
      ],
      "execution_count": null,
      "outputs": [
        {
          "output_type": "stream",
          "text": [
            "/usr/local/lib/python3.6/dist-packages/statsmodels/tools/_testing.py:19: FutureWarning: pandas.util.testing is deprecated. Use the functions in the public API at pandas.testing instead.\n",
            "  import pandas.util.testing as tm\n"
          ],
          "name": "stderr"
        }
      ]
    },
    {
      "cell_type": "code",
      "metadata": {
        "id": "okTUchVHJM1n",
        "colab": {
          "base_uri": "https://localhost:8080/"
        },
        "outputId": "b5db9040-3209-419e-ae96-03cc9458ac17"
      },
      "source": [
        "from google.colab import drive\n",
        "drive.mount('/content/drive')"
      ],
      "execution_count": null,
      "outputs": [
        {
          "output_type": "stream",
          "text": [
            "Mounted at /content/drive\n"
          ],
          "name": "stdout"
        }
      ]
    },
    {
      "cell_type": "code",
      "metadata": {
        "id": "a5PP2bF1rhX1",
        "colab": {
          "base_uri": "https://localhost:8080/",
          "height": 450
        },
        "outputId": "6352427b-370a-4b61-bcc9-c19d61a9328e"
      },
      "source": [
        "r=pd.read_csv(\"/content/drive/My Drive/stock/final_SUNPHARMA.NS.csv\")\n",
        "nt=pd.read_csv(\"/content/drive/My Drive/tone/pct730/pct730_Sun Pharma.csv\")\n",
        "df=pd.DataFrame()\n",
        "df['return']=r['return']\n",
        "df['negative tone']=nt['PCT']\n",
        "df['Date']=r['Date']\n",
        "df.set_index('Date',inplace=True)\n",
        "df[~df.isin([np.nan, np.inf, -np.inf]).any(1)]\n",
        "df.replace([np.inf, -np.inf], np.nan)\n",
        "\n",
        "df.dropna(inplace=True)\n",
        "df\n",
        "\n"
      ],
      "execution_count": null,
      "outputs": [
        {
          "output_type": "execute_result",
          "data": {
            "text/html": [
              "<div>\n",
              "<style scoped>\n",
              "    .dataframe tbody tr th:only-of-type {\n",
              "        vertical-align: middle;\n",
              "    }\n",
              "\n",
              "    .dataframe tbody tr th {\n",
              "        vertical-align: top;\n",
              "    }\n",
              "\n",
              "    .dataframe thead th {\n",
              "        text-align: right;\n",
              "    }\n",
              "</style>\n",
              "<table border=\"1\" class=\"dataframe\">\n",
              "  <thead>\n",
              "    <tr style=\"text-align: right;\">\n",
              "      <th></th>\n",
              "      <th>return</th>\n",
              "      <th>negative tone</th>\n",
              "    </tr>\n",
              "    <tr>\n",
              "      <th>Date</th>\n",
              "      <th></th>\n",
              "      <th></th>\n",
              "    </tr>\n",
              "  </thead>\n",
              "  <tbody>\n",
              "    <tr>\n",
              "      <th>2018-01-01</th>\n",
              "      <td>0.00</td>\n",
              "      <td>0.28</td>\n",
              "    </tr>\n",
              "    <tr>\n",
              "      <th>2018-01-02</th>\n",
              "      <td>-0.33</td>\n",
              "      <td>0.47</td>\n",
              "    </tr>\n",
              "    <tr>\n",
              "      <th>2018-01-03</th>\n",
              "      <td>-0.54</td>\n",
              "      <td>0.00</td>\n",
              "    </tr>\n",
              "    <tr>\n",
              "      <th>2018-01-04</th>\n",
              "      <td>2.14</td>\n",
              "      <td>0.90</td>\n",
              "    </tr>\n",
              "    <tr>\n",
              "      <th>2018-01-05</th>\n",
              "      <td>-0.42</td>\n",
              "      <td>0.96</td>\n",
              "    </tr>\n",
              "    <tr>\n",
              "      <th>...</th>\n",
              "      <td>...</td>\n",
              "      <td>...</td>\n",
              "    </tr>\n",
              "    <tr>\n",
              "      <th>2019-12-27</th>\n",
              "      <td>-1.40</td>\n",
              "      <td>0.50</td>\n",
              "    </tr>\n",
              "    <tr>\n",
              "      <th>2019-12-28</th>\n",
              "      <td>0.00</td>\n",
              "      <td>0.00</td>\n",
              "    </tr>\n",
              "    <tr>\n",
              "      <th>2019-12-29</th>\n",
              "      <td>0.00</td>\n",
              "      <td>0.00</td>\n",
              "    </tr>\n",
              "    <tr>\n",
              "      <th>2019-12-30</th>\n",
              "      <td>2.49</td>\n",
              "      <td>1.95</td>\n",
              "    </tr>\n",
              "    <tr>\n",
              "      <th>2019-12-31</th>\n",
              "      <td>0.00</td>\n",
              "      <td>0.00</td>\n",
              "    </tr>\n",
              "  </tbody>\n",
              "</table>\n",
              "<p>728 rows × 2 columns</p>\n",
              "</div>"
            ],
            "text/plain": [
              "            return  negative tone\n",
              "Date                             \n",
              "2018-01-01    0.00           0.28\n",
              "2018-01-02   -0.33           0.47\n",
              "2018-01-03   -0.54           0.00\n",
              "2018-01-04    2.14           0.90\n",
              "2018-01-05   -0.42           0.96\n",
              "...            ...            ...\n",
              "2019-12-27   -1.40           0.50\n",
              "2019-12-28    0.00           0.00\n",
              "2019-12-29    0.00           0.00\n",
              "2019-12-30    2.49           1.95\n",
              "2019-12-31    0.00           0.00\n",
              "\n",
              "[728 rows x 2 columns]"
            ]
          },
          "metadata": {
            "tags": []
          },
          "execution_count": 3
        }
      ]
    },
    {
      "cell_type": "code",
      "metadata": {
        "id": "oalP4NKkAMMu",
        "colab": {
          "base_uri": "https://localhost:8080/",
          "height": 724
        },
        "outputId": "ec4c7ed0-3695-4a7c-c3d0-4bcd198dab65"
      },
      "source": [
        "fig, axes = plt.subplots(nrows=1, ncols=2, dpi=120, figsize=(10,6))\n",
        "for i, ax in enumerate(axes.flatten()):\n",
        "    data = df[df.columns[i]]\n",
        "    ax.plot(data, color='red', linewidth=1)\n",
        "    # Decorations\n",
        "    ax.set_title(df.columns[i])\n",
        "    ax.xaxis.set_ticks_position('none')\n",
        "    ax.yaxis.set_ticks_position('none')\n",
        "    ax.spines[\"top\"].set_alpha(0)\n",
        "    ax.tick_params(labelsize=6)\n",
        "\n",
        "plt.tight_layout();"
      ],
      "execution_count": null,
      "outputs": [
        {
          "output_type": "display_data",
          "data": {
            "image/png": "[encoded data removed]",
            "text/plain": [
              "<Figure size 1200x720 with 2 Axes>"
            ]
          },
          "metadata": {
            "tags": [],
            "needs_background": "light"
          }
        }
      ]
    },
    {
      "cell_type": "code",
      "metadata": {
        "id": "bJXLim6uAW7_",
        "colab": {
          "base_uri": "https://localhost:8080/",
          "height": 111
        },
        "outputId": "e807b14e-18e3-4d3b-8820-96a688d44b58"
      },
      "source": [
        "from statsmodels.tsa.stattools import grangercausalitytests\n",
        "maxlag=12\n",
        "test = 'ssr_chi2test'\n",
        "def grangers_causation_matrix(data, variables, test='ssr_chi2test', verbose=False):    \n",
        "    \"\"\"Check Granger Causality of all possible combinations of the Time series.\n",
        "    The rows are the response variable, columns are predictors. The values in the table \n",
        "    are the P-Values. P-Values lesser than the significance level (0.05), implies \n",
        "    the Null Hypothesis that the coefficients of the corresponding past values is \n",
        "    zero, that is, the X does not cause Y can be rejected.\n",
        "\n",
        "    data      : pandas dataframe containing the time series variables\n",
        "    variables : list containing names of the time series variables.\n",
        "    \"\"\"\n",
        "    df = pd.DataFrame(np.zeros((len(variables), len(variables))), columns=variables, index=variables)\n",
        "    for c in df.columns:\n",
        "        for r in df.index:\n",
        "            test_result = grangercausalitytests(data[[r, c]], maxlag=maxlag, verbose=False)\n",
        "            p_values = [round(test_result[i+1][0][test][1],4) for i in range(maxlag)]\n",
        "            if verbose: print(f'Y = {r}, X = {c}, P Values = {p_values}')\n",
        "            min_p_value = np.min(p_values)\n",
        "            df.loc[r, c] = min_p_value\n",
        "    df.columns = [var + '_x' for var in variables]\n",
        "    df.index = [var + '_y' for var in variables]\n",
        "    return df\n",
        "\n",
        "grangers_causation_matrix(df, variables = df.columns) "
      ],
      "execution_count": null,
      "outputs": [
        {
          "output_type": "execute_result",
          "data": {
            "text/html": [
              "<div>\n",
              "<style scoped>\n",
              "    .dataframe tbody tr th:only-of-type {\n",
              "        vertical-align: middle;\n",
              "    }\n",
              "\n",
              "    .dataframe tbody tr th {\n",
              "        vertical-align: top;\n",
              "    }\n",
              "\n",
              "    .dataframe thead th {\n",
              "        text-align: right;\n",
              "    }\n",
              "</style>\n",
              "<table border=\"1\" class=\"dataframe\">\n",
              "  <thead>\n",
              "    <tr style=\"text-align: right;\">\n",
              "      <th></th>\n",
              "      <th>return_x</th>\n",
              "      <th>negative tone_x</th>\n",
              "    </tr>\n",
              "  </thead>\n",
              "  <tbody>\n",
              "    <tr>\n",
              "      <th>return_y</th>\n",
              "      <td>1.0000</td>\n",
              "      <td>0.1341</td>\n",
              "    </tr>\n",
              "    <tr>\n",
              "      <th>negative tone_y</th>\n",
              "      <td>0.3666</td>\n",
              "      <td>1.0000</td>\n",
              "    </tr>\n",
              "  </tbody>\n",
              "</table>\n",
              "</div>"
            ],
            "text/plain": [
              "                 return_x  negative tone_x\n",
              "return_y           1.0000           0.1341\n",
              "negative tone_y    0.3666           1.0000"
            ]
          },
          "metadata": {
            "tags": []
          },
          "execution_count": 5
        }
      ]
    },
    {
      "cell_type": "code",
      "metadata": {
        "id": "sw-oAStCMAgj"
      },
      "source": [
        "# Results from Granger Casuality test can be read as : negative tone causes return (10% significance) but return do not causes negative tone.\n"
      ],
      "execution_count": null,
      "outputs": []
    },
    {
      "cell_type": "code",
      "metadata": {
        "id": "4o50qsaedyyu",
        "colab": {
          "base_uri": "https://localhost:8080/"
        },
        "outputId": "cb606e72-3459-4e94-a3c9-328611eb2fb0"
      },
      "source": [
        "t = 5\n",
        "df_train, df_test = df[0:-t], df[-t:]\n",
        "\n",
        "# Check size\n",
        "print(df_train.shape)  # (655, 2)\n",
        "print(df_test.shape)  # (73, 2)\n"
      ],
      "execution_count": null,
      "outputs": [
        {
          "output_type": "stream",
          "text": [
            "(723, 2)\n",
            "(5, 2)\n"
          ],
          "name": "stdout"
        }
      ]
    },
    {
      "cell_type": "code",
      "metadata": {
        "id": "nIl2Hdo0hBuI"
      },
      "source": [
        "def adfuller_test(series, signif=0.05, name='', verbose=False):\n",
        "    \"\"\"Perform ADFuller to test for Stationarity of given series and print report\"\"\"\n",
        "    r = adfuller(series, autolag='AIC')\n",
        "    output = {'test_statistic':round(r[0], 4), 'pvalue':round(r[1], 4), 'n_lags':round(r[2], 4), 'n_obs':r[3]}\n",
        "    p_value = output['pvalue'] \n",
        "    def adjust(val, length= 6): return str(val).ljust(length)\n",
        "\n",
        "    # Print Summary\n",
        "    print(f'    Augmented Dickey-Fuller Test on \"{name}\"', \"\\n   \", '-'*47)\n",
        "    print(f' Null Hypothesis: Data has unit root. Non-Stationary.')\n",
        "    print(f' Significance Level    = {signif}')\n",
        "    print(f' Test Statistic        = {output[\"test_statistic\"]}')\n",
        "    print(f' No. Lags Chosen       = {output[\"n_lags\"]}')\n",
        "\n",
        "    for key,val in r[4].items():\n",
        "        print(f' Critical value {adjust(key)} = {round(val, 3)}')\n",
        "\n",
        "    if p_value <= signif:\n",
        "        print(f\" => P-Value = {p_value}. Rejecting Null Hypothesis.\")\n",
        "        print(f\" => Series is Stationary.\")\n",
        "    else:\n",
        "        print(f\" => P-Value = {p_value}. Weak evidence to reject the Null Hypothesis.\")\n",
        "        print(f\" => Series is Non-Stationary.\") "
      ],
      "execution_count": null,
      "outputs": []
    },
    {
      "cell_type": "code",
      "metadata": {
        "id": "k1WENsT3wLnE",
        "colab": {
          "base_uri": "https://localhost:8080/"
        },
        "outputId": "5035aa0a-dcd2-4776-90f8-f291bd004d93"
      },
      "source": [
        "# ADF Test on each column\n",
        "for name, column in df_train.iteritems():\n",
        "    adfuller_test(column, name=column.name)\n",
        "    print('\\n')"
      ],
      "execution_count": null,
      "outputs": [
        {
          "output_type": "stream",
          "text": [
            "    Augmented Dickey-Fuller Test on \"return\" \n",
            "    -----------------------------------------------\n",
            " Null Hypothesis: Data has unit root. Non-Stationary.\n",
            " Significance Level    = 0.05\n",
            " Test Statistic        = -27.0438\n",
            " No. Lags Chosen       = 0\n",
            " Critical value 1%     = -3.439\n",
            " Critical value 5%     = -2.866\n",
            " Critical value 10%    = -2.569\n",
            " => P-Value = 0.0. Rejecting Null Hypothesis.\n",
            " => Series is Stationary.\n",
            "\n",
            "\n",
            "    Augmented Dickey-Fuller Test on \"negative tone\" \n",
            "    -----------------------------------------------\n",
            " Null Hypothesis: Data has unit root. Non-Stationary.\n",
            " Significance Level    = 0.05\n",
            " Test Statistic        = -23.4741\n",
            " No. Lags Chosen       = 0\n",
            " Critical value 1%     = -3.439\n",
            " Critical value 5%     = -2.866\n",
            " Critical value 10%    = -2.569\n",
            " => P-Value = 0.0. Rejecting Null Hypothesis.\n",
            " => Series is Stationary.\n",
            "\n",
            "\n"
          ],
          "name": "stdout"
        }
      ]
    },
    {
      "cell_type": "code",
      "metadata": {
        "id": "g75LrN35wPvT",
        "colab": {
          "base_uri": "https://localhost:8080/"
        },
        "outputId": "97d10c62-a0c4-43de-b2a2-8969482d9dd4"
      },
      "source": [
        "model = VAR(df_train)\r\n",
        "for i in [1,2,3,4,5,6,7,8,9,10,11,12]:\r\n",
        "    result = model.fit(i)\r\n",
        "    print('Lag Order =', i)\r\n",
        "    print('AIC : ', result.aic)\r\n",
        "    print('BIC : ', result.bic)\r\n",
        "    print('FPE : ', result.fpe)\r\n",
        "    print('HQIC: ', result.hqic, '\\n')\r\n",
        "print(df_train[-t:])   "
      ],
      "execution_count": null,
      "outputs": [
        {
          "output_type": "stream",
          "text": [
            "Lag Order = 1\n",
            "AIC :  1.2722949361702314\n",
            "BIC :  1.3103727074075677\n",
            "FPE :  3.569034217289496\n",
            "HQIC:  1.2869931489655786 \n",
            "\n",
            "Lag Order = 2\n",
            "AIC :  1.283841004928213\n",
            "BIC :  1.3473727544051193\n",
            "FPE :  3.610482607206212\n",
            "HQIC:  1.3083661609322648 \n",
            "\n",
            "Lag Order = 3\n",
            "AIC :  1.292426993730826\n",
            "BIC :  1.3814679895199111\n",
            "FPE :  3.641618475961434\n",
            "HQIC:  1.3268016970034067 \n",
            "\n",
            "Lag Order = 4\n",
            "AIC :  1.2923582931239488\n",
            "BIC :  1.406964001662167\n",
            "FPE :  3.641373364456853\n",
            "HQIC:  1.336605230748148 \n",
            "\n",
            "Lag Order = 5\n",
            "AIC :  1.304248309803123\n",
            "BIC :  1.4444743968770242\n",
            "FPE :  3.6849358054220462\n",
            "HQIC:  1.3583902523022313 \n",
            "\n",
            "Lag Order = 6\n",
            "AIC :  1.3112500673723995\n",
            "BIC :  1.4771523991096243\n",
            "FPE :  3.7108390723015945\n",
            "HQIC:  1.3753098691295007 \n",
            "\n",
            "Lag Order = 7\n",
            "AIC :  1.3229076466484542\n",
            "BIC :  1.5145422905155201\n",
            "FPE :  3.754367802025207\n",
            "HQIC:  1.3969082463286913 \n",
            "\n",
            "Lag Order = 8\n",
            "AIC :  1.3263090568770137\n",
            "BIC :  1.5437322826834419\n",
            "FPE :  3.767181029267856\n",
            "HQIC:  1.410273477852549 \n",
            "\n",
            "Lag Order = 9\n",
            "AIC :  1.3387985785014482\n",
            "BIC :  1.5820668594102776\n",
            "FPE :  3.814553859465535\n",
            "HQIC:  1.4327499292791412 \n",
            "\n",
            "Lag Order = 10\n",
            "AIC :  1.3424934102603219\n",
            "BIC :  1.611663423805063\n",
            "FPE :  3.828708325730651\n",
            "HQIC:  1.4464548849121426 \n",
            "\n",
            "Lag Order = 11\n",
            "AIC :  1.3548322320567212\n",
            "BIC :  1.6499608611647982\n",
            "FPE :  3.876284940196211\n",
            "HQIC:  1.4688271106529232 \n",
            "\n",
            "Lag Order = 12\n",
            "AIC :  1.3633637147715896\n",
            "BIC :  1.6845080487943211\n",
            "FPE :  3.90954782170747\n",
            "HQIC:  1.4874153638166612 \n",
            "\n",
            "            return  negative tone\n",
            "Date                             \n",
            "2019-12-22    0.00           0.00\n",
            "2019-12-23    1.01           2.01\n",
            "2019-12-24    1.17           1.78\n",
            "2019-12-25    0.00           0.00\n",
            "2019-12-26   -0.93           0.00\n"
          ],
          "name": "stdout"
        },
        {
          "output_type": "stream",
          "text": [
            "/usr/local/lib/python3.6/dist-packages/statsmodels/tsa/base/tsa_model.py:219: ValueWarning: A date index has been provided, but it has no associated frequency information and so will be ignored when e.g. forecasting.\n",
            "  ' ignored when e.g. forecasting.', ValueWarning)\n"
          ],
          "name": "stderr"
        }
      ]
    },
    {
      "cell_type": "code",
      "metadata": {
        "id": "O9yZVJin1LTq",
        "colab": {
          "base_uri": "https://localhost:8080/",
          "height": 347
        },
        "outputId": "4762cfb5-2f2f-4bce-8d35-a80ac8fb5f7b"
      },
      "source": [
        "x = model.select_order(maxlags=12)\r\n",
        "x.summary()"
      ],
      "execution_count": null,
      "outputs": [
        {
          "output_type": "execute_result",
          "data": {
            "text/html": [
              "<table class=\"simpletable\">\n",
              "<caption>VAR Order Selection (* highlights the minimums)</caption>\n",
              "<tr>\n",
              "   <td></td>      <th>AIC</th>         <th>BIC</th>         <th>FPE</th>        <th>HQIC</th>    \n",
              "</tr>\n",
              "<tr>\n",
              "  <th>0</th>  <td>     1.302</td>  <td>     1.315*</td> <td>     3.678</td>  <td>     1.307*</td>\n",
              "</tr>\n",
              "<tr>\n",
              "  <th>1</th>  <td>     1.293*</td> <td>     1.331</td>  <td>     3.643*</td> <td>     1.308</td> \n",
              "</tr>\n",
              "<tr>\n",
              "  <th>2</th>  <td>     1.302</td>  <td>     1.366</td>  <td>     3.677</td>  <td>     1.327</td> \n",
              "</tr>\n",
              "<tr>\n",
              "  <th>3</th>  <td>     1.309</td>  <td>     1.399</td>  <td>     3.702</td>  <td>     1.344</td> \n",
              "</tr>\n",
              "<tr>\n",
              "  <th>4</th>  <td>     1.308</td>  <td>     1.423</td>  <td>     3.698</td>  <td>     1.352</td> \n",
              "</tr>\n",
              "<tr>\n",
              "  <th>5</th>  <td>     1.317</td>  <td>     1.458</td>  <td>     3.733</td>  <td>     1.372</td> \n",
              "</tr>\n",
              "<tr>\n",
              "  <th>6</th>  <td>     1.322</td>  <td>     1.489</td>  <td>     3.752</td>  <td>     1.387</td> \n",
              "</tr>\n",
              "<tr>\n",
              "  <th>7</th>  <td>     1.332</td>  <td>     1.525</td>  <td>     3.789</td>  <td>     1.407</td> \n",
              "</tr>\n",
              "<tr>\n",
              "  <th>8</th>  <td>     1.336</td>  <td>     1.554</td>  <td>     3.802</td>  <td>     1.420</td> \n",
              "</tr>\n",
              "<tr>\n",
              "  <th>9</th>  <td>     1.345</td>  <td>     1.590</td>  <td>     3.840</td>  <td>     1.440</td> \n",
              "</tr>\n",
              "<tr>\n",
              "  <th>10</th> <td>     1.347</td>  <td>     1.617</td>  <td>     3.848</td>  <td>     1.452</td> \n",
              "</tr>\n",
              "<tr>\n",
              "  <th>11</th> <td>     1.358</td>  <td>     1.653</td>  <td>     3.887</td>  <td>     1.472</td> \n",
              "</tr>\n",
              "<tr>\n",
              "  <th>12</th> <td>     1.363</td>  <td>     1.685</td>  <td>     3.910</td>  <td>     1.487</td> \n",
              "</tr>\n",
              "</table>"
            ],
            "text/plain": [
              "<class 'statsmodels.iolib.table.SimpleTable'>"
            ]
          },
          "metadata": {
            "tags": []
          },
          "execution_count": 12
        }
      ]
    },
    {
      "cell_type": "code",
      "metadata": {
        "id": "5SN_79o61nUA",
        "colab": {
          "base_uri": "https://localhost:8080/"
        },
        "outputId": "ac2f5632-3566-4c51-ed0f-b5385f880a2c"
      },
      "source": [
        "model_fitted = model.fit(1)\r\n",
        "model_fitted.summary()"
      ],
      "execution_count": null,
      "outputs": [
        {
          "output_type": "execute_result",
          "data": {
            "text/plain": [
              "  Summary of Regression Results   \n",
              "==================================\n",
              "Model:                         VAR\n",
              "Method:                        OLS\n",
              "Date:           Sat, 02, Jan, 2021\n",
              "Time:                     19:24:30\n",
              "--------------------------------------------------------------------\n",
              "No. of Equations:         2.00000    BIC:                    1.31037\n",
              "Nobs:                     722.000    HQIC:                   1.28699\n",
              "Log likelihood:          -2502.25    FPE:                    3.56903\n",
              "AIC:                      1.27229    Det(Omega_mle):         3.53956\n",
              "--------------------------------------------------------------------\n",
              "Results for equation return\n",
              "===================================================================================\n",
              "                      coefficient       std. error           t-stat            prob\n",
              "-----------------------------------------------------------------------------------\n",
              "const                    0.061656         0.086990            0.709           0.478\n",
              "L1.return               -0.008726         0.037246           -0.234           0.815\n",
              "L1.negative tone        -0.088998         0.060325           -1.475           0.140\n",
              "===================================================================================\n",
              "\n",
              "Results for equation negative tone\n",
              "===================================================================================\n",
              "                      coefficient       std. error           t-stat            prob\n",
              "-----------------------------------------------------------------------------------\n",
              "const                    0.827610         0.053321           15.521           0.000\n",
              "L1.return               -0.002233         0.022831           -0.098           0.922\n",
              "L1.negative tone         0.132621         0.036977            3.587           0.000\n",
              "===================================================================================\n",
              "\n",
              "Correlation matrix of residuals\n",
              "                   return  negative tone\n",
              "return           1.000000      -0.005019\n",
              "negative tone   -0.005019       1.000000\n",
              "\n"
            ]
          },
          "metadata": {
            "tags": []
          },
          "execution_count": 13
        }
      ]
    },
    {
      "cell_type": "code",
      "metadata": {
        "id": "oQt4xV7U22hI",
        "colab": {
          "base_uri": "https://localhost:8080/"
        },
        "outputId": "7ce637c7-59ae-4f49-da2c-2e59bc8a0608"
      },
      "source": [
        "from statsmodels.stats.stattools import durbin_watson\r\n",
        "out = durbin_watson(model_fitted.resid)\r\n",
        "\r\n",
        "for col, val in zip(df.columns, out):\r\n",
        "    print(col, ':', round(val, 2))"
      ],
      "execution_count": null,
      "outputs": [
        {
          "output_type": "stream",
          "text": [
            "return : 2.0\n",
            "negative tone : 2.01\n"
          ],
          "name": "stdout"
        }
      ]
    },
    {
      "cell_type": "code",
      "metadata": {
        "id": "vhMlrqfmlKyt",
        "colab": {
          "base_uri": "https://localhost:8080/"
        },
        "outputId": "09eeda7f-276a-4965-8910-9d9fe5b64cb9"
      },
      "source": [
        "# Get the lag order\r\n",
        "lag_order = model_fitted.k_ar\r\n",
        "print(lag_order)  #1\r\n",
        "\r\n",
        "# Input data for forecasting\r\n",
        "forecast_input = df_train.values[-lag_order:]\r\n",
        "forecast_input"
      ],
      "execution_count": null,
      "outputs": [
        {
          "output_type": "stream",
          "text": [
            "1\n"
          ],
          "name": "stdout"
        },
        {
          "output_type": "execute_result",
          "data": {
            "text/plain": [
              "array([[-0.93,  0.  ]])"
            ]
          },
          "metadata": {
            "tags": []
          },
          "execution_count": 15
        }
      ]
    },
    {
      "cell_type": "code",
      "metadata": {
        "id": "wr3s2ZcAcsJs",
        "colab": {
          "base_uri": "https://localhost:8080/",
          "height": 235
        },
        "outputId": "b26a8d73-07bf-4b0b-f201-14a33dabc12d"
      },
      "source": [
        "# Forecast\r\n",
        "fc = model_fitted.forecast(y=forecast_input, steps=t)\r\n",
        "\r\n",
        "df_forecast = pd.DataFrame(fc, index=df.index[-t:], columns=df.columns)\r\n",
        "df_forecast"
      ],
      "execution_count": null,
      "outputs": [
        {
          "output_type": "execute_result",
          "data": {
            "text/html": [
              "<div>\n",
              "<style scoped>\n",
              "    .dataframe tbody tr th:only-of-type {\n",
              "        vertical-align: middle;\n",
              "    }\n",
              "\n",
              "    .dataframe tbody tr th {\n",
              "        vertical-align: top;\n",
              "    }\n",
              "\n",
              "    .dataframe thead th {\n",
              "        text-align: right;\n",
              "    }\n",
              "</style>\n",
              "<table border=\"1\" class=\"dataframe\">\n",
              "  <thead>\n",
              "    <tr style=\"text-align: right;\">\n",
              "      <th></th>\n",
              "      <th>return</th>\n",
              "      <th>negative tone</th>\n",
              "    </tr>\n",
              "    <tr>\n",
              "      <th>Date</th>\n",
              "      <th></th>\n",
              "      <th></th>\n",
              "    </tr>\n",
              "  </thead>\n",
              "  <tbody>\n",
              "    <tr>\n",
              "      <th>2019-12-27</th>\n",
              "      <td>0.069771</td>\n",
              "      <td>0.829686</td>\n",
              "    </tr>\n",
              "    <tr>\n",
              "      <th>2019-12-28</th>\n",
              "      <td>-0.012794</td>\n",
              "      <td>0.937488</td>\n",
              "    </tr>\n",
              "    <tr>\n",
              "      <th>2019-12-29</th>\n",
              "      <td>-0.021667</td>\n",
              "      <td>0.951969</td>\n",
              "    </tr>\n",
              "    <tr>\n",
              "      <th>2019-12-30</th>\n",
              "      <td>-0.022879</td>\n",
              "      <td>0.953910</td>\n",
              "    </tr>\n",
              "    <tr>\n",
              "      <th>2019-12-31</th>\n",
              "      <td>-0.023041</td>\n",
              "      <td>0.954170</td>\n",
              "    </tr>\n",
              "  </tbody>\n",
              "</table>\n",
              "</div>"
            ],
            "text/plain": [
              "              return  negative tone\n",
              "Date                               \n",
              "2019-12-27  0.069771       0.829686\n",
              "2019-12-28 -0.012794       0.937488\n",
              "2019-12-29 -0.021667       0.951969\n",
              "2019-12-30 -0.022879       0.953910\n",
              "2019-12-31 -0.023041       0.954170"
            ]
          },
          "metadata": {
            "tags": []
          },
          "execution_count": 16
        }
      ]
    },
    {
      "cell_type": "code",
      "metadata": {
        "id": "LSVYaKuiAXud",
        "colab": {
          "base_uri": "https://localhost:8080/"
        },
        "outputId": "944b63d1-e13b-4fa0-e3c6-2ad8060151bb"
      },
      "source": [
        "from statsmodels.tsa.stattools import acf\r\n",
        "def forecast_accuracy(forecast, actual):\r\n",
        "    mape = np.mean(np.abs(forecast - actual)/np.abs(actual))  # MAPE\r\n",
        "    me = np.mean(forecast - actual)             # ME\r\n",
        "    mae = np.mean(np.abs(forecast - actual))    # MAE\r\n",
        "    mpe = np.mean((forecast - actual)/actual)   # MPE\r\n",
        "    rmse = np.mean((forecast - actual)**2)**.5  # RMSE\r\n",
        "    corr = np.corrcoef(forecast, actual)[0,1]   # corr\r\n",
        "    \r\n",
        "    return({'mape':mape, 'me':me, 'mae': mae, \r\n",
        "            'mpe': mpe, 'rmse':rmse, 'corr':corr})\r\n",
        "\r\n",
        "print('Forecast Accuracy of: return')\r\n",
        "accuracy_prod = forecast_accuracy(df_forecast['return'].values, df_test['return'])\r\n",
        "for k, v in accuracy_prod.items():\r\n",
        "    print(k, ': ', round(v,4))\r\n",
        "\r\n",
        "print('\\nForecast Accuracy of: negative tone')\r\n",
        "accuracy_prod = forecast_accuracy(df_forecast['negative tone'].values, df_test['negative tone'])\r\n",
        "for k, v in accuracy_prod.items():\r\n",
        "    print(k, ': ', round(v,4))\r\n",
        "\r\n"
      ],
      "execution_count": null,
      "outputs": [
        {
          "output_type": "stream",
          "text": [
            "Forecast Accuracy of: return\n",
            "mape :  inf\n",
            "me :  -0.2201\n",
            "mae :  0.808\n",
            "mpe :  -inf\n",
            "rmse :  1.302\n",
            "corr :  -0.6696\n",
            "\n",
            "Forecast Accuracy of: negative tone\n",
            "mape :  inf\n",
            "me :  0.4354\n",
            "mae :  0.8339\n",
            "mpe :  inf\n",
            "rmse :  0.8714\n",
            "corr :  0.0418\n"
          ],
          "name": "stdout"
        }
      ]
    },
    {
      "cell_type": "code",
      "metadata": {
        "id": "XZoCwfq-FOmZ"
      },
      "source": [
        ""
      ],
      "execution_count": null,
      "outputs": []
    }
  ]
}