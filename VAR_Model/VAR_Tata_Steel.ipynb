{
  "nbformat": 4,
  "nbformat_minor": 0,
  "metadata": {
    "colab": {
      "name": "VAR_Tata Steel",
      "provenance": [],
      "collapsed_sections": []
    },
    "kernelspec": {
      "name": "python3",
      "display_name": "Python 3"
    }
  },
  "cells": [
    {
      "cell_type": "code",
      "metadata": {
        "id": "aTt-bLhWqiVF",
        "colab": {
          "base_uri": "https://localhost:8080/"
        },
        "outputId": "1885ca03-d53e-44ae-a1f0-3523073b7c78"
      },
      "source": [
        "import pandas as pd\n",
        "import numpy as np\n",
        "import os\n",
        "import matplotlib.pyplot as plt\n",
        "%matplotlib inline\n",
        "from statsmodels.tsa.api import VAR\n",
        "from statsmodels.tsa.stattools import adfuller\n",
        "from statsmodels.tools.eval_measures import rmse,aic"
      ],
      "execution_count": null,
      "outputs": [
        {
          "output_type": "stream",
          "text": [
            "/usr/local/lib/python3.6/dist-packages/statsmodels/tools/_testing.py:19: FutureWarning: pandas.util.testing is deprecated. Use the functions in the public API at pandas.testing instead.\n",
            "  import pandas.util.testing as tm\n"
          ],
          "name": "stderr"
        }
      ]
    },
    {
      "cell_type": "code",
      "metadata": {
        "id": "okTUchVHJM1n",
        "colab": {
          "base_uri": "https://localhost:8080/"
        },
        "outputId": "64e06065-cacb-40c7-c503-564301175498"
      },
      "source": [
        "from google.colab import drive\n",
        "drive.mount('/content/drive')"
      ],
      "execution_count": null,
      "outputs": [
        {
          "output_type": "stream",
          "text": [
            "Mounted at /content/drive\n"
          ],
          "name": "stdout"
        }
      ]
    },
    {
      "cell_type": "code",
      "metadata": {
        "id": "a5PP2bF1rhX1",
        "colab": {
          "base_uri": "https://localhost:8080/",
          "height": 450
        },
        "outputId": "35942aa2-8418-472b-e02a-b1974e5e545c"
      },
      "source": [
        "r=pd.read_csv(\"/content/drive/My Drive/stock/final_TATASTEEL.NS.csv\")\n",
        "nt=pd.read_csv(\"/content/drive/My Drive/tone/pct730/pct730_Tata Steel.csv\")\n",
        "df=pd.DataFrame()\n",
        "df['return']=r['return']\n",
        "df['negative tone']=nt['PCT']\n",
        "df['Date']=r['Date']\n",
        "df.set_index('Date',inplace=True)\n",
        "df[~df.isin([np.nan, np.inf, -np.inf]).any(1)]\n",
        "df.replace([np.inf, -np.inf], np.nan)\n",
        "\n",
        "df.dropna(inplace=True)\n",
        "df\n",
        "\n"
      ],
      "execution_count": null,
      "outputs": [
        {
          "output_type": "execute_result",
          "data": {
            "text/html": [
              "<div>\n",
              "<style scoped>\n",
              "    .dataframe tbody tr th:only-of-type {\n",
              "        vertical-align: middle;\n",
              "    }\n",
              "\n",
              "    .dataframe tbody tr th {\n",
              "        vertical-align: top;\n",
              "    }\n",
              "\n",
              "    .dataframe thead th {\n",
              "        text-align: right;\n",
              "    }\n",
              "</style>\n",
              "<table border=\"1\" class=\"dataframe\">\n",
              "  <thead>\n",
              "    <tr style=\"text-align: right;\">\n",
              "      <th></th>\n",
              "      <th>return</th>\n",
              "      <th>negative tone</th>\n",
              "    </tr>\n",
              "    <tr>\n",
              "      <th>Date</th>\n",
              "      <th></th>\n",
              "      <th></th>\n",
              "    </tr>\n",
              "  </thead>\n",
              "  <tbody>\n",
              "    <tr>\n",
              "      <th>2018-01-01</th>\n",
              "      <td>0.00</td>\n",
              "      <td>0.00</td>\n",
              "    </tr>\n",
              "    <tr>\n",
              "      <th>2018-01-02</th>\n",
              "      <td>0.98</td>\n",
              "      <td>1.65</td>\n",
              "    </tr>\n",
              "    <tr>\n",
              "      <th>2018-01-03</th>\n",
              "      <td>0.77</td>\n",
              "      <td>1.28</td>\n",
              "    </tr>\n",
              "    <tr>\n",
              "      <th>2018-01-04</th>\n",
              "      <td>3.44</td>\n",
              "      <td>1.14</td>\n",
              "    </tr>\n",
              "    <tr>\n",
              "      <th>2018-01-05</th>\n",
              "      <td>1.37</td>\n",
              "      <td>0.95</td>\n",
              "    </tr>\n",
              "    <tr>\n",
              "      <th>...</th>\n",
              "      <td>...</td>\n",
              "      <td>...</td>\n",
              "    </tr>\n",
              "    <tr>\n",
              "      <th>2019-12-27</th>\n",
              "      <td>4.37</td>\n",
              "      <td>0.46</td>\n",
              "    </tr>\n",
              "    <tr>\n",
              "      <th>2019-12-28</th>\n",
              "      <td>0.00</td>\n",
              "      <td>0.00</td>\n",
              "    </tr>\n",
              "    <tr>\n",
              "      <th>2019-12-29</th>\n",
              "      <td>0.00</td>\n",
              "      <td>1.15</td>\n",
              "    </tr>\n",
              "    <tr>\n",
              "      <th>2019-12-30</th>\n",
              "      <td>1.22</td>\n",
              "      <td>0.35</td>\n",
              "    </tr>\n",
              "    <tr>\n",
              "      <th>2019-12-31</th>\n",
              "      <td>0.00</td>\n",
              "      <td>1.26</td>\n",
              "    </tr>\n",
              "  </tbody>\n",
              "</table>\n",
              "<p>728 rows × 2 columns</p>\n",
              "</div>"
            ],
            "text/plain": [
              "            return  negative tone\n",
              "Date                             \n",
              "2018-01-01    0.00           0.00\n",
              "2018-01-02    0.98           1.65\n",
              "2018-01-03    0.77           1.28\n",
              "2018-01-04    3.44           1.14\n",
              "2018-01-05    1.37           0.95\n",
              "...            ...            ...\n",
              "2019-12-27    4.37           0.46\n",
              "2019-12-28    0.00           0.00\n",
              "2019-12-29    0.00           1.15\n",
              "2019-12-30    1.22           0.35\n",
              "2019-12-31    0.00           1.26\n",
              "\n",
              "[728 rows x 2 columns]"
            ]
          },
          "metadata": {
            "tags": []
          },
          "execution_count": 3
        }
      ]
    },
    {
      "cell_type": "code",
      "metadata": {
        "id": "oalP4NKkAMMu",
        "colab": {
          "base_uri": "https://localhost:8080/",
          "height": 724
        },
        "outputId": "700dcd98-483b-4d21-9268-31ac0f4650f2"
      },
      "source": [
        "fig, axes = plt.subplots(nrows=1, ncols=2, dpi=120, figsize=(10,6))\n",
        "for i, ax in enumerate(axes.flatten()):\n",
        "    data = df[df.columns[i]]\n",
        "    ax.plot(data, color='red', linewidth=1)\n",
        "    # Decorations\n",
        "    ax.set_title(df.columns[i])\n",
        "    ax.xaxis.set_ticks_position('none')\n",
        "    ax.yaxis.set_ticks_position('none')\n",
        "    ax.spines[\"top\"].set_alpha(0)\n",
        "    ax.tick_params(labelsize=6)\n",
        "\n",
        "plt.tight_layout();"
      ],
      "execution_count": null,
      "outputs": [
        {
          "output_type": "display_data",
          "data": {
            "image/png": "[encoded data removed]",
            "text/plain": [
              "<Figure size 1200x720 with 2 Axes>"
            ]
          },
          "metadata": {
            "tags": [],
            "needs_background": "light"
          }
        }
      ]
    },
    {
      "cell_type": "code",
      "metadata": {
        "id": "bJXLim6uAW7_",
        "colab": {
          "base_uri": "https://localhost:8080/",
          "height": 111
        },
        "outputId": "676ffdeb-a5a5-43e3-96b5-5a93ae46daec"
      },
      "source": [
        "from statsmodels.tsa.stattools import grangercausalitytests\n",
        "maxlag=12\n",
        "test = 'ssr_chi2test'\n",
        "def grangers_causation_matrix(data, variables, test='ssr_chi2test', verbose=False):    \n",
        "    \"\"\"Check Granger Causality of all possible combinations of the Time series.\n",
        "    The rows are the response variable, columns are predictors. The values in the table \n",
        "    are the P-Values. P-Values lesser than the significance level (0.05), implies \n",
        "    the Null Hypothesis that the coefficients of the corresponding past values is \n",
        "    zero, that is, the X does not cause Y can be rejected.\n",
        "\n",
        "    data      : pandas dataframe containing the time series variables\n",
        "    variables : list containing names of the time series variables.\n",
        "    \"\"\"\n",
        "    df = pd.DataFrame(np.zeros((len(variables), len(variables))), columns=variables, index=variables)\n",
        "    for c in df.columns:\n",
        "        for r in df.index:\n",
        "            test_result = grangercausalitytests(data[[r, c]], maxlag=maxlag, verbose=False)\n",
        "            p_values = [round(test_result[i+1][0][test][1],4) for i in range(maxlag)]\n",
        "            if verbose: print(f'Y = {r}, X = {c}, P Values = {p_values}')\n",
        "            min_p_value = np.min(p_values)\n",
        "            df.loc[r, c] = min_p_value\n",
        "    df.columns = [var + '_x' for var in variables]\n",
        "    df.index = [var + '_y' for var in variables]\n",
        "    return df\n",
        "\n",
        "grangers_causation_matrix(df, variables = df.columns) "
      ],
      "execution_count": null,
      "outputs": [
        {
          "output_type": "execute_result",
          "data": {
            "text/html": [
              "<div>\n",
              "<style scoped>\n",
              "    .dataframe tbody tr th:only-of-type {\n",
              "        vertical-align: middle;\n",
              "    }\n",
              "\n",
              "    .dataframe tbody tr th {\n",
              "        vertical-align: top;\n",
              "    }\n",
              "\n",
              "    .dataframe thead th {\n",
              "        text-align: right;\n",
              "    }\n",
              "</style>\n",
              "<table border=\"1\" class=\"dataframe\">\n",
              "  <thead>\n",
              "    <tr style=\"text-align: right;\">\n",
              "      <th></th>\n",
              "      <th>return_x</th>\n",
              "      <th>negative tone_x</th>\n",
              "    </tr>\n",
              "  </thead>\n",
              "  <tbody>\n",
              "    <tr>\n",
              "      <th>return_y</th>\n",
              "      <td>1.0000</td>\n",
              "      <td>0.0493</td>\n",
              "    </tr>\n",
              "    <tr>\n",
              "      <th>negative tone_y</th>\n",
              "      <td>0.4181</td>\n",
              "      <td>1.0000</td>\n",
              "    </tr>\n",
              "  </tbody>\n",
              "</table>\n",
              "</div>"
            ],
            "text/plain": [
              "                 return_x  negative tone_x\n",
              "return_y           1.0000           0.0493\n",
              "negative tone_y    0.4181           1.0000"
            ]
          },
          "metadata": {
            "tags": []
          },
          "execution_count": 5
        }
      ]
    },
    {
      "cell_type": "code",
      "metadata": {
        "id": "sw-oAStCMAgj"
      },
      "source": [
        "# Results from Granger Casuality test can be read as : negative tone causes return (10% significance) but return do not causes negative tone.\n"
      ],
      "execution_count": null,
      "outputs": []
    },
    {
      "cell_type": "code",
      "metadata": {
        "id": "4o50qsaedyyu",
        "colab": {
          "base_uri": "https://localhost:8080/"
        },
        "outputId": "8332e845-fcf7-4a47-8c1e-fb6176e6ff76"
      },
      "source": [
        "t = 5\n",
        "df_train, df_test = df[0:-t], df[-t:]\n",
        "\n",
        "# Check size\n",
        "print(df_train.shape)  # (655, 2)\n",
        "print(df_test.shape)  # (73, 2)\n"
      ],
      "execution_count": null,
      "outputs": [
        {
          "output_type": "stream",
          "text": [
            "(723, 2)\n",
            "(5, 2)\n"
          ],
          "name": "stdout"
        }
      ]
    },
    {
      "cell_type": "code",
      "metadata": {
        "id": "nIl2Hdo0hBuI"
      },
      "source": [
        "def adfuller_test(series, signif=0.05, name='', verbose=False):\n",
        "    \"\"\"Perform ADFuller to test for Stationarity of given series and print report\"\"\"\n",
        "    r = adfuller(series, autolag='AIC')\n",
        "    output = {'test_statistic':round(r[0], 4), 'pvalue':round(r[1], 4), 'n_lags':round(r[2], 4), 'n_obs':r[3]}\n",
        "    p_value = output['pvalue'] \n",
        "    def adjust(val, length= 6): return str(val).ljust(length)\n",
        "\n",
        "    # Print Summary\n",
        "    print(f'    Augmented Dickey-Fuller Test on \"{name}\"', \"\\n   \", '-'*47)\n",
        "    print(f' Null Hypothesis: Data has unit root. Non-Stationary.')\n",
        "    print(f' Significance Level    = {signif}')\n",
        "    print(f' Test Statistic        = {output[\"test_statistic\"]}')\n",
        "    print(f' No. Lags Chosen       = {output[\"n_lags\"]}')\n",
        "\n",
        "    for key,val in r[4].items():\n",
        "        print(f' Critical value {adjust(key)} = {round(val, 3)}')\n",
        "\n",
        "    if p_value <= signif:\n",
        "        print(f\" => P-Value = {p_value}. Rejecting Null Hypothesis.\")\n",
        "        print(f\" => Series is Stationary.\")\n",
        "    else:\n",
        "        print(f\" => P-Value = {p_value}. Weak evidence to reject the Null Hypothesis.\")\n",
        "        print(f\" => Series is Non-Stationary.\") "
      ],
      "execution_count": null,
      "outputs": []
    },
    {
      "cell_type": "code",
      "metadata": {
        "id": "k1WENsT3wLnE",
        "colab": {
          "base_uri": "https://localhost:8080/"
        },
        "outputId": "a3f6ed50-7c09-43d8-98d1-6923754fcd08"
      },
      "source": [
        "# ADF Test on each column\n",
        "for name, column in df_train.iteritems():\n",
        "    adfuller_test(column, name=column.name)\n",
        "    print('\\n')"
      ],
      "execution_count": null,
      "outputs": [
        {
          "output_type": "stream",
          "text": [
            "    Augmented Dickey-Fuller Test on \"return\" \n",
            "    -----------------------------------------------\n",
            " Null Hypothesis: Data has unit root. Non-Stationary.\n",
            " Significance Level    = 0.05\n",
            " Test Statistic        = -28.7556\n",
            " No. Lags Chosen       = 0\n",
            " Critical value 1%     = -3.439\n",
            " Critical value 5%     = -2.866\n",
            " Critical value 10%    = -2.569\n",
            " => P-Value = 0.0. Rejecting Null Hypothesis.\n",
            " => Series is Stationary.\n",
            "\n",
            "\n",
            "    Augmented Dickey-Fuller Test on \"negative tone\" \n",
            "    -----------------------------------------------\n",
            " Null Hypothesis: Data has unit root. Non-Stationary.\n",
            " Significance Level    = 0.05\n",
            " Test Statistic        = -24.2793\n",
            " No. Lags Chosen       = 0\n",
            " Critical value 1%     = -3.439\n",
            " Critical value 5%     = -2.866\n",
            " Critical value 10%    = -2.569\n",
            " => P-Value = 0.0. Rejecting Null Hypothesis.\n",
            " => Series is Stationary.\n",
            "\n",
            "\n"
          ],
          "name": "stdout"
        }
      ]
    },
    {
      "cell_type": "code",
      "metadata": {
        "id": "g75LrN35wPvT",
        "colab": {
          "base_uri": "https://localhost:8080/"
        },
        "outputId": "62380306-10a6-4ed7-a037-bed083d78414"
      },
      "source": [
        "model = VAR(df_train)\r\n",
        "for i in [1,2,3,4,5,6,7,8,9,10,11,12]:\r\n",
        "    result = model.fit(i)\r\n",
        "    print('Lag Order =', i)\r\n",
        "    print('AIC : ', result.aic)\r\n",
        "    print('BIC : ', result.bic)\r\n",
        "    print('FPE : ', result.fpe)\r\n",
        "    print('HQIC: ', result.hqic, '\\n')\r\n",
        "print(df_train[-t:])   "
      ],
      "execution_count": null,
      "outputs": [
        {
          "output_type": "stream",
          "text": [
            "Lag Order = 1\n",
            "AIC :  1.2636219984554065\n",
            "BIC :  1.3016997696927428\n",
            "FPE :  3.538214049708215\n",
            "HQIC:  1.2783202112507537 \n",
            "\n",
            "Lag Order = 2\n",
            "AIC :  1.2757795237523863\n",
            "BIC :  1.3393112732292927\n",
            "FPE :  3.5814937730952505\n",
            "HQIC:  1.3003046797564382 \n",
            "\n",
            "Lag Order = 3\n",
            "AIC :  1.287863539199898\n",
            "BIC :  1.3769045349889832\n",
            "FPE :  3.6250379765791396\n",
            "HQIC:  1.3222382424724788 \n",
            "\n",
            "Lag Order = 4\n",
            "AIC :  1.29524809740481\n",
            "BIC :  1.4098538059430281\n",
            "FPE :  3.651911439947914\n",
            "HQIC:  1.3394950350290091 \n",
            "\n",
            "Lag Order = 5\n",
            "AIC :  1.3050220436339195\n",
            "BIC :  1.4452481307078204\n",
            "FPE :  3.687788068222831\n",
            "HQIC:  1.3591639861330278 \n",
            "\n",
            "Lag Order = 6\n",
            "AIC :  1.3075981797203138\n",
            "BIC :  1.4735005114575386\n",
            "FPE :  3.6973122192216055\n",
            "HQIC:  1.371657981477415 \n",
            "\n",
            "Lag Order = 7\n",
            "AIC :  1.3070080475500019\n",
            "BIC :  1.4986426914170679\n",
            "FPE :  3.6951469009655797\n",
            "HQIC:  1.381008647230239 \n",
            "\n",
            "Lag Order = 8\n",
            "AIC :  1.319621186429959\n",
            "BIC :  1.537044412236387\n",
            "FPE :  3.742070671596791\n",
            "HQIC:  1.4035856074054942 \n",
            "\n",
            "Lag Order = 9\n",
            "AIC :  1.3283035181510787\n",
            "BIC :  1.571571799059908\n",
            "FPE :  3.7747292329738458\n",
            "HQIC:  1.4222548689287717 \n",
            "\n",
            "Lag Order = 10\n",
            "AIC :  1.3409110058075164\n",
            "BIC :  1.6100810193522574\n",
            "FPE :  3.822654551650275\n",
            "HQIC:  1.4448724804593371 \n",
            "\n",
            "Lag Order = 11\n",
            "AIC :  1.3504427368832543\n",
            "BIC :  1.6455713659913314\n",
            "FPE :  3.859307295065876\n",
            "HQIC:  1.4644376154794563 \n",
            "\n",
            "Lag Order = 12\n",
            "AIC :  1.3419936839317768\n",
            "BIC :  1.6631380179545083\n",
            "FPE :  3.826887041654877\n",
            "HQIC:  1.4660453329768486 \n",
            "\n",
            "            return  negative tone\n",
            "Date                             \n",
            "2019-12-22    0.00           1.75\n",
            "2019-12-23    3.24           0.40\n",
            "2019-12-24    2.32           2.07\n",
            "2019-12-25    0.00           0.00\n",
            "2019-12-26   -1.73           0.16\n"
          ],
          "name": "stdout"
        },
        {
          "output_type": "stream",
          "text": [
            "/usr/local/lib/python3.6/dist-packages/statsmodels/tsa/base/tsa_model.py:219: ValueWarning: A date index has been provided, but it has no associated frequency information and so will be ignored when e.g. forecasting.\n",
            "  ' ignored when e.g. forecasting.', ValueWarning)\n"
          ],
          "name": "stderr"
        }
      ]
    },
    {
      "cell_type": "code",
      "metadata": {
        "id": "O9yZVJin1LTq",
        "colab": {
          "base_uri": "https://localhost:8080/",
          "height": 347
        },
        "outputId": "cd81a2d4-7eff-4d71-8972-731625d355c3"
      },
      "source": [
        "x = model.select_order(maxlags=12)\r\n",
        "x.summary()"
      ],
      "execution_count": null,
      "outputs": [
        {
          "output_type": "execute_result",
          "data": {
            "text/html": [
              "<table class=\"simpletable\">\n",
              "<caption>VAR Order Selection (* highlights the minimums)</caption>\n",
              "<tr>\n",
              "   <td></td>      <th>AIC</th>         <th>BIC</th>         <th>FPE</th>        <th>HQIC</th>    \n",
              "</tr>\n",
              "<tr>\n",
              "  <th>0</th>  <td>     1.285</td>  <td>     1.297*</td> <td>     3.613</td>  <td>     1.290*</td>\n",
              "</tr>\n",
              "<tr>\n",
              "  <th>1</th>  <td>     1.279*</td> <td>     1.317</td>  <td>     3.593*</td> <td>     1.294</td> \n",
              "</tr>\n",
              "<tr>\n",
              "  <th>2</th>  <td>     1.289</td>  <td>     1.353</td>  <td>     3.629</td>  <td>     1.314</td> \n",
              "</tr>\n",
              "<tr>\n",
              "  <th>3</th>  <td>     1.299</td>  <td>     1.389</td>  <td>     3.665</td>  <td>     1.333</td> \n",
              "</tr>\n",
              "<tr>\n",
              "  <th>4</th>  <td>     1.309</td>  <td>     1.425</td>  <td>     3.703</td>  <td>     1.354</td> \n",
              "</tr>\n",
              "<tr>\n",
              "  <th>5</th>  <td>     1.317</td>  <td>     1.459</td>  <td>     3.734</td>  <td>     1.372</td> \n",
              "</tr>\n",
              "<tr>\n",
              "  <th>6</th>  <td>     1.318</td>  <td>     1.485</td>  <td>     3.734</td>  <td>     1.382</td> \n",
              "</tr>\n",
              "<tr>\n",
              "  <th>7</th>  <td>     1.315</td>  <td>     1.508</td>  <td>     3.726</td>  <td>     1.390</td> \n",
              "</tr>\n",
              "<tr>\n",
              "  <th>8</th>  <td>     1.326</td>  <td>     1.544</td>  <td>     3.766</td>  <td>     1.410</td> \n",
              "</tr>\n",
              "<tr>\n",
              "  <th>9</th>  <td>     1.332</td>  <td>     1.576</td>  <td>     3.790</td>  <td>     1.427</td> \n",
              "</tr>\n",
              "<tr>\n",
              "  <th>10</th> <td>     1.343</td>  <td>     1.613</td>  <td>     3.830</td>  <td>     1.447</td> \n",
              "</tr>\n",
              "<tr>\n",
              "  <th>11</th> <td>     1.350</td>  <td>     1.646</td>  <td>     3.858</td>  <td>     1.464</td> \n",
              "</tr>\n",
              "<tr>\n",
              "  <th>12</th> <td>     1.342</td>  <td>     1.663</td>  <td>     3.827</td>  <td>     1.466</td> \n",
              "</tr>\n",
              "</table>"
            ],
            "text/plain": [
              "<class 'statsmodels.iolib.table.SimpleTable'>"
            ]
          },
          "metadata": {
            "tags": []
          },
          "execution_count": 12
        }
      ]
    },
    {
      "cell_type": "code",
      "metadata": {
        "id": "5SN_79o61nUA",
        "colab": {
          "base_uri": "https://localhost:8080/"
        },
        "outputId": "1b681d0f-c8bd-4e6e-888b-564b48fe3e8b"
      },
      "source": [
        "model_fitted = model.fit(1)\r\n",
        "model_fitted.summary()"
      ],
      "execution_count": null,
      "outputs": [
        {
          "output_type": "execute_result",
          "data": {
            "text/plain": [
              "  Summary of Regression Results   \n",
              "==================================\n",
              "Model:                         VAR\n",
              "Method:                        OLS\n",
              "Date:           Sat, 02, Jan, 2021\n",
              "Time:                     19:18:25\n",
              "--------------------------------------------------------------------\n",
              "No. of Equations:         2.00000    BIC:                    1.30170\n",
              "Nobs:                     722.000    HQIC:                   1.27832\n",
              "Log likelihood:          -2499.11    FPE:                    3.53821\n",
              "AIC:                      1.26362    Det(Omega_mle):         3.50899\n",
              "--------------------------------------------------------------------\n",
              "Results for equation return\n",
              "===================================================================================\n",
              "                      coefficient       std. error           t-stat            prob\n",
              "-----------------------------------------------------------------------------------\n",
              "const                    0.009100         0.105970            0.086           0.932\n",
              "L1.return               -0.071910         0.037301           -1.928           0.054\n",
              "L1.negative tone        -0.053969         0.064288           -0.839           0.401\n",
              "===================================================================================\n",
              "\n",
              "Results for equation negative tone\n",
              "===================================================================================\n",
              "                      coefficient       std. error           t-stat            prob\n",
              "-----------------------------------------------------------------------------------\n",
              "const                    1.148735         0.061271           18.748           0.000\n",
              "L1.return                0.019123         0.021567            0.887           0.375\n",
              "L1.negative tone         0.102243         0.037171            2.751           0.006\n",
              "===================================================================================\n",
              "\n",
              "Correlation matrix of residuals\n",
              "                   return  negative tone\n",
              "return           1.000000      -0.064882\n",
              "negative tone   -0.064882       1.000000\n",
              "\n"
            ]
          },
          "metadata": {
            "tags": []
          },
          "execution_count": 13
        }
      ]
    },
    {
      "cell_type": "code",
      "metadata": {
        "id": "oQt4xV7U22hI",
        "colab": {
          "base_uri": "https://localhost:8080/"
        },
        "outputId": "d0e11a89-23c9-4461-de75-47fc48cdc8e3"
      },
      "source": [
        "from statsmodels.stats.stattools import durbin_watson\r\n",
        "out = durbin_watson(model_fitted.resid)\r\n",
        "\r\n",
        "for col, val in zip(df.columns, out):\r\n",
        "    print(col, ':', round(val, 2))"
      ],
      "execution_count": null,
      "outputs": [
        {
          "output_type": "stream",
          "text": [
            "return : 2.0\n",
            "negative tone : 2.0\n"
          ],
          "name": "stdout"
        }
      ]
    },
    {
      "cell_type": "code",
      "metadata": {
        "id": "vhMlrqfmlKyt",
        "colab": {
          "base_uri": "https://localhost:8080/"
        },
        "outputId": "4c49047c-ae0b-4680-e0c6-46b2c39e653b"
      },
      "source": [
        "# Get the lag order\r\n",
        "lag_order = model_fitted.k_ar\r\n",
        "print(lag_order)  #1\r\n",
        "\r\n",
        "# Input data for forecasting\r\n",
        "forecast_input = df_train.values[-lag_order:]\r\n",
        "forecast_input"
      ],
      "execution_count": null,
      "outputs": [
        {
          "output_type": "stream",
          "text": [
            "1\n"
          ],
          "name": "stdout"
        },
        {
          "output_type": "execute_result",
          "data": {
            "text/plain": [
              "array([[-1.73,  0.16]])"
            ]
          },
          "metadata": {
            "tags": []
          },
          "execution_count": 15
        }
      ]
    },
    {
      "cell_type": "code",
      "metadata": {
        "id": "wr3s2ZcAcsJs",
        "colab": {
          "base_uri": "https://localhost:8080/",
          "height": 235
        },
        "outputId": "c9fd3b0f-558a-463e-8364-53dd3ba881e3"
      },
      "source": [
        "# Forecast\r\n",
        "fc = model_fitted.forecast(y=forecast_input, steps=t)\r\n",
        "\r\n",
        "df_forecast = pd.DataFrame(fc, index=df.index[-t:], columns=df.columns)\r\n",
        "df_forecast"
      ],
      "execution_count": null,
      "outputs": [
        {
          "output_type": "execute_result",
          "data": {
            "text/html": [
              "<div>\n",
              "<style scoped>\n",
              "    .dataframe tbody tr th:only-of-type {\n",
              "        vertical-align: middle;\n",
              "    }\n",
              "\n",
              "    .dataframe tbody tr th {\n",
              "        vertical-align: top;\n",
              "    }\n",
              "\n",
              "    .dataframe thead th {\n",
              "        text-align: right;\n",
              "    }\n",
              "</style>\n",
              "<table border=\"1\" class=\"dataframe\">\n",
              "  <thead>\n",
              "    <tr style=\"text-align: right;\">\n",
              "      <th></th>\n",
              "      <th>return</th>\n",
              "      <th>negative tone</th>\n",
              "    </tr>\n",
              "    <tr>\n",
              "      <th>Date</th>\n",
              "      <th></th>\n",
              "      <th></th>\n",
              "    </tr>\n",
              "  </thead>\n",
              "  <tbody>\n",
              "    <tr>\n",
              "      <th>2019-12-27</th>\n",
              "      <td>0.124870</td>\n",
              "      <td>1.132011</td>\n",
              "    </tr>\n",
              "    <tr>\n",
              "      <th>2019-12-28</th>\n",
              "      <td>-0.060973</td>\n",
              "      <td>1.266863</td>\n",
              "    </tr>\n",
              "    <tr>\n",
              "      <th>2019-12-29</th>\n",
              "      <td>-0.054887</td>\n",
              "      <td>1.277097</td>\n",
              "    </tr>\n",
              "    <tr>\n",
              "      <th>2019-12-30</th>\n",
              "      <td>-0.055876</td>\n",
              "      <td>1.278259</td>\n",
              "    </tr>\n",
              "    <tr>\n",
              "      <th>2019-12-31</th>\n",
              "      <td>-0.055868</td>\n",
              "      <td>1.278359</td>\n",
              "    </tr>\n",
              "  </tbody>\n",
              "</table>\n",
              "</div>"
            ],
            "text/plain": [
              "              return  negative tone\n",
              "Date                               \n",
              "2019-12-27  0.124870       1.132011\n",
              "2019-12-28 -0.060973       1.266863\n",
              "2019-12-29 -0.054887       1.277097\n",
              "2019-12-30 -0.055876       1.278259\n",
              "2019-12-31 -0.055868       1.278359"
            ]
          },
          "metadata": {
            "tags": []
          },
          "execution_count": 16
        }
      ]
    },
    {
      "cell_type": "code",
      "metadata": {
        "id": "LSVYaKuiAXud",
        "colab": {
          "base_uri": "https://localhost:8080/"
        },
        "outputId": "a96d1c36-bef2-4197-931b-14641162b6ff"
      },
      "source": [
        "from statsmodels.tsa.stattools import acf\r\n",
        "def forecast_accuracy(forecast, actual):\r\n",
        "    mape = np.mean(np.abs(forecast - actual)/np.abs(actual))  # MAPE\r\n",
        "    me = np.mean(forecast - actual)             # ME\r\n",
        "    mae = np.mean(np.abs(forecast - actual))    # MAE\r\n",
        "    mpe = np.mean((forecast - actual)/actual)   # MPE\r\n",
        "    rmse = np.mean((forecast - actual)**2)**.5  # RMSE\r\n",
        "    corr = np.corrcoef(forecast, actual)[0,1]   # corr\r\n",
        "    \r\n",
        "    return({'mape':mape, 'me':me, 'mae': mae, \r\n",
        "            'mpe': mpe, 'rmse':rmse, 'corr':corr})\r\n",
        "\r\n",
        "print('Forecast Accuracy of: return')\r\n",
        "accuracy_prod = forecast_accuracy(df_forecast['return'].values, df_test['return'])\r\n",
        "for k, v in accuracy_prod.items():\r\n",
        "    print(k, ': ', round(v,4))\r\n",
        "\r\n",
        "print('\\nForecast Accuracy of: negative tone')\r\n",
        "accuracy_prod = forecast_accuracy(df_forecast['negative tone'].values, df_test['negative tone'])\r\n",
        "for k, v in accuracy_prod.items():\r\n",
        "    print(k, ': ', round(v,4))\r\n",
        "\r\n"
      ],
      "execution_count": null,
      "outputs": [
        {
          "output_type": "stream",
          "text": [
            "Forecast Accuracy of: return\n",
            "mape :  inf\n",
            "me :  -1.1385\n",
            "mae :  1.1385\n",
            "mpe :  -inf\n",
            "rmse :  1.9829\n",
            "corr :  0.9619\n",
            "\n",
            "Forecast Accuracy of: negative tone\n",
            "mape :  inf\n",
            "me :  0.6025\n",
            "mae :  0.6025\n",
            "mpe :  inf\n",
            "rmse :  0.7661\n",
            "corr :  0.2428\n"
          ],
          "name": "stdout"
        }
      ]
    },
    {
      "cell_type": "code",
      "metadata": {
        "id": "XZoCwfq-FOmZ"
      },
      "source": [
        " "
      ],
      "execution_count": null,
      "outputs": []
    }
  ]
}