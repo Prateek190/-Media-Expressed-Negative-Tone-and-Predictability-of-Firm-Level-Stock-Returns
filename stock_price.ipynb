{
  "nbformat": 4,
  "nbformat_minor": 0,
  "metadata": {
    "colab": {
      "name": "stock_price_final",
      "provenance": [],
      "mount_file_id": "1xRRW0VF6SSSpuMbhp0V6pP_lw98Sx_2F",
      "authorship_tag": "ABX9TyMl71kXrvKYQ93GrX8Zm23d",
      "include_colab_link": true
    },
    "kernelspec": {
      "name": "python3",
      "display_name": "Python 3"
    }
  },
  "cells": [
    {
      "cell_type": "markdown",
      "metadata": {
        "id": "view-in-github",
        "colab_type": "text"
      },
      "source": [
        "<a href=\"https://colab.research.google.com/github/Prateek190/-Media-Expressed-Negative-Tone-and-Predictability-of-Firm-Level-Stock-Returns/blob/main/stock_price_final.ipynb\" target=\"_parent\"><img src=\"https://colab.research.google.com/assets/colab-badge.svg\" alt=\"Open In Colab\"/></a>"
      ]
    },
    {
      "cell_type": "code",
      "metadata": {
        "id": "NdopKabjWbby"
      },
      "source": [
        "import re\n",
        "import csv\n",
        "import os\n",
        "import pandas as pd\n",
        "import numpy as np"
      ],
      "execution_count": null,
      "outputs": []
    },
    {
      "cell_type": "code",
      "metadata": {
        "id": "kCkpPpQ5gICd"
      },
      "source": [
        "for o in os.listdir('/content/drive/My Drive/stock price data/'):\n",
        "  e=[m+1 for m in range(487)]\n",
        "  x=[r for r in range(488)]\n",
        "  w=pd.read_csv(\"/content/drive/My Drive/stock price data/\"+o)\n",
        "  df=pd.DataFrame(w)\n",
        "  df['return']=x\n",
        "  for i in e:\n",
        "    df.iloc[i,7]=((df.iloc[i,5] - df.iloc[i-1,5])/df.iloc[i-1,5])*100\n",
        "    l=df['return'].tolist()\n",
        "    y=list()\n",
        "    for i in l:\n",
        "      r=round(i,2)\n",
        "      y.append(r)\n",
        "\n",
        "    \n",
        "    df['return']=y\n",
        "    \n",
        "  #df.to_csv('/content/drive/My Drive/stockf/final_'+o[:])\n",
        "  \n",
        "    \n",
        "   "
      ],
      "execution_count": null,
      "outputs": []
    },
    {
      "cell_type": "code",
      "metadata": {
        "id": "lC8X_kz2qROZ"
      },
      "source": [
        ""
      ],
      "execution_count": null,
      "outputs": []
    },
    {
      "cell_type": "code",
      "metadata": {
        "id": "PEC5GLKx5reW"
      },
      "source": [
        "import datetime\n",
        "import numpy as np\n",
        "import pandas as pd\n",
        "a=datetime.date(2018,1,1)\n",
        "A=a.isoformat()\n",
        "lists=[]\n",
        "while(a<=datetime.date(2019,12,31)):\n",
        "  lists.append(A)\n",
        "  a+=datetime.timedelta(days=1)\n",
        "  A=a.isoformat()\n",
        "lists\n",
        "ln=np.array(lists)\n",
        "\n",
        "d=[i+1 for i in range(730)]\n",
        "for o in os.listdir('/content/drive/My Drive/stockf/'):\n",
        "  \n",
        "  f=pd.read_csv(\"/content/drive/My Drive/stockf/\"+o)\n",
        "  q=pd.read_csv(\"/content/drive/My Drive/se/ad.csv\")\n",
        "  g=f['return'].to_numpy()\n",
        "  h=q['return'].to_numpy()\n",
        "  j=0\n",
        "  l=list()\n",
        "  for i in h:\n",
        "    if(i==0):\n",
        "      l.append(0)\n",
        "    else:\n",
        "      l.append(g[j])\n",
        "      j+=1\n",
        "  lp=np.array(l)\n",
        "  df=pd.DataFrame()\n",
        "  df['Days']=d\n",
        "  df['return']=lp\n",
        "  df['Date']=ln\n",
        "  df.to_csv('/content/drive/My Drive/stock/'+o[:])"
      ],
      "execution_count": null,
      "outputs": []
    },
    {
      "cell_type": "code",
      "metadata": {
        "id": "i_huFATO7Pw-"
      },
      "source": [
        ""
      ],
      "execution_count": null,
      "outputs": []
    }
  ]
}
